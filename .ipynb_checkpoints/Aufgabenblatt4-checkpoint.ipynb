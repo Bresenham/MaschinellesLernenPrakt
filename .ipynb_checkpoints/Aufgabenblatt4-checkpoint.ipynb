{
 "cells": [
  {
   "cell_type": "code",
   "execution_count": 16,
   "metadata": {},
   "outputs": [],
   "source": [
    "import matplotlib.pyplot as plt\n",
    "import numpy as np\n",
    "%matplotlib inline"
   ]
  },
  {
   "cell_type": "markdown",
   "metadata": {},
   "source": [
    "## Aufgabe 1"
   ]
  },
  {
   "cell_type": "markdown",
   "metadata": {},
   "source": [
    "Perzeptronklassifikator $f(x): R² \\rightarrow \\{0,1\\}$ mit Parametern $w_0 = 2, w_1 = -0.4$ und $w_2 = 0.5$"
   ]
  },
  {
   "cell_type": "markdown",
   "metadata": {},
   "source": [
    "### 1) Welches geometrische Objekt ist die Entscheidungsoberfläche?"
   ]
  },
  {
   "cell_type": "markdown",
   "metadata": {},
   "source": [
    "Eine Gerade"
   ]
  },
  {
   "cell_type": "markdown",
   "metadata": {},
   "source": [
    "### 2) Zeichnen Sie die Entscheidungsoberfläche und markieren Sie den Halbraum welcher positiv klassifiziert und welcher Halbraum negativ ist"
   ]
  },
  {
   "cell_type": "code",
   "execution_count": 50,
   "metadata": {},
   "outputs": [
    {
     "data": {
      "image/png": "[encoded data removed]",
      "text/plain": [
       "<Figure size 432x288 with 1 Axes>"
      ]
     },
     "metadata": {
      "needs_background": "light"
     },
     "output_type": "display_data"
    }
   ],
   "source": [
    "f = lambda x: -4 + 0.8 * x \n",
    "x_1 = np.arange(0.0, 10.0, 0.1)\n",
    "x_2 = [f(x_i) for x_i in x_1]\n",
    "plt.plot(x_1, x_2)\n",
    "plt.plot(x_1, [0 for x_i in x_1], c=\"black\")\n",
    "plt.Polygon([[-4.0, 0.0], [10.0, 4.0], [-4.0, 4.0]], fill=True, closed=True, color='b')\n",
    "plt.Polygon([[-4.0, 0.0], [10.0, 4.0], [10.0, -4.0]], fill=True, closed=True, color='r')\n",
    "plt.xlabel(\"x1\")\n",
    "plt.ylabel(\"x2\")\n",
    "plt.show()"
   ]
  },
  {
   "cell_type": "markdown",
   "metadata": {},
   "source": [
    "### 3) Was müssten Sie an $f(x)$ ändern um eine entgegengesetzte Klassifikation zu erhalten?"
   ]
  },
  {
   "cell_type": "markdown",
   "metadata": {},
   "source": [
    "Vorzeichen der Gewichte $w_i$ umdrehen zu:\n",
    "\n",
    "$f(x) = -2 + 0.4x_1 - 0.5x_2$"
   ]
  },
  {
   "cell_type": "markdown",
   "metadata": {},
   "source": [
    "### 4) Berechnen Sie die Gewichte eines Perzeptronklassifikators, wenn Sie wissen, dass\n",
    "- die Punkte (3,0) und (0,3) auf der Entscheidungsoberfläche liegen und dass\n",
    "- der Ursprung (0,0) negativ klassifiziert wird"
   ]
  },
  {
   "cell_type": "markdown",
   "metadata": {},
   "source": [
    "$w_0 + 3x_1 = 0 \\Rightarrow w_0 = -3x_1$\n",
    "\n",
    "$w_0 + 3x_2 = 0 \\Rightarrow w_0 = -3x_2$\n",
    "\n",
    "$w_0 < 0 \\Rightarrow x_1 = x_2 = 1 \\Rightarrow w_0 = -3$\n",
    "\n",
    "$f(x_1, x_2) = -3 + x_1 + x_2$"
   ]
  },
  {
   "cell_type": "markdown",
   "metadata": {},
   "source": [
    "## Aufgabe 2"
   ]
  },
  {
   "cell_type": "markdown",
   "metadata": {},
   "source": [
    "$f(x): R² \\rightarrow \\{0, 1\\} = \\alpha(w_1x_1 + w_2x_2 + w_0)$\n",
    "\n",
    "- $d¹ = [1,2]$ (Klasse 1)\n",
    "- $d² = [2,3]$ (Klasse 0)\n",
    "- $d³ = [2,0]$ (Klasse 1)"
   ]
  },
  {
   "cell_type": "markdown",
   "metadata": {},
   "source": [
    "### 1) Zeichnen Sie die drei Datenpunkte in ein Koordinatensystem"
   ]
  },
  {
   "cell_type": "code",
   "execution_count": null,
   "metadata": {},
   "outputs": [],
   "source": [
    "plt.scatter(1, 2, marker=\"D\", s=15, color='blue')\n",
    "plt.scatter(2, 3, marker=\"D\", s=15, color='red')\n",
    "plt.scatter(2, 0, marker=\"D\", s=15, color='blue')\n",
    "plt.xlabel(\"x1\")\n",
    "plt.ylabel(\"x2\")\n",
    "plt.show()"
   ]
  },
  {
   "cell_type": "markdown",
   "metadata": {},
   "source": [
    "### 2) Angenommen die Gewichte sind anfangs $w = 0$, zeichnen Sie in das Koordinatensystem die Entscheidungsoberfläche ein"
   ]
  },
  {
   "cell_type": "code",
   "execution_count": null,
   "metadata": {},
   "outputs": [],
   "source": [
    "plt.scatter(1, 2, marker=\"D\", s=15, color='blue')\n",
    "plt.scatter(2, 3, marker=\"D\", s=15, color='red')\n",
    "plt.scatter(2, 0, marker=\"D\", s=15, color='blue')\n",
    "plt.Polygon([[0.0, 0.0], [2.0, 0.0], [2.0, 3.0], [0.0, 3.0]], fill=True, closed=True, color='r')\n",
    "plt.xlabel(\"x1\")\n",
    "plt.ylabel(\"x2\")\n",
    "plt.show()"
   ]
  },
  {
   "cell_type": "markdown",
   "metadata": {},
   "source": [
    "### 3) Führen Sie das Training schrittweise durch bis alle Datenpunkte korrekt klassifiziert werden. Was ist der endgültige Wert von `w`? Wieviele Iterationen wurden benötigt?"
   ]
  },
  {
   "cell_type": "code",
   "execution_count": 35,
   "metadata": {},
   "outputs": [],
   "source": [
    "alpha = lambda x: 1 if x > 0 else 0\n",
    "\n",
    "def sum(x, y, w):\n",
    "    s = 0.0\n",
    "    for i in range(len(y)):\n",
    "        nv = np.abs(y[i] - alpha(np.dot(w, x[i])))\n",
    "        s += nv\n",
    "    return s\n",
    "\n",
    "def perceptron_learn(x, y):\n",
    "    w = np.array([0] * len(y))\n",
    "    err = lambda: (1.0 / len(y)) * sum(x, y, w)\n",
    "    iters = 0\n",
    "    while err() != 0.0:\n",
    "        _w = w.copy()\n",
    "        o = np.array([0] * len(y))\n",
    "        for i in range(len(y)):\n",
    "            o[i] = alpha(np.dot(w, x[i]))\n",
    "            _w = _w + (y[i] - o[i]) * x[i]\n",
    "        iters += 1\n",
    "\n",
    "        w = _w\n",
    "    return w, iters\n"
   ]
  },
  {
   "cell_type": "code",
   "execution_count": 36,
   "metadata": {},
   "outputs": [
    {
     "name": "stdout",
     "output_type": "stream",
     "text": [
      "W: [ 8. -1. -2.] \n",
      "Iterations: 29\n"
     ]
    }
   ],
   "source": [
    "x = np.array([\n",
    "    [1.0, 1.0, 2.0],\n",
    "    [1.0, 2.0, 3.0],\n",
    "    [1.0, 2.0, 0.0]\n",
    "])\n",
    "y = np.array([\n",
    "    1, 0, 1\n",
    "])\n",
    "\n",
    "w, iters = perceptron_learn(x, y)\n",
    "print(\"W:\", w, \"\\nIterations:\", iters)"
   ]
  },
  {
   "cell_type": "markdown",
   "metadata": {},
   "source": [
    "### 4) Zeichnen Sie nochmals die drei Datenpunkte in ein Koordinatensystem, zeichnen Sie die Entscheidungsoberfläche ebenfalls"
   ]
  },
  {
   "cell_type": "markdown",
   "metadata": {},
   "source": [
    "$f(x_1, x_2) = 8 -x_1 -2x_2$\n",
    "\n",
    "$8 - x_1 - 2x_2 = 0$\n",
    "\n",
    "$\\Leftrightarrow x_2 = 4 - 0.5x_1$"
   ]
  },
  {
   "cell_type": "code",
   "execution_count": 46,
   "metadata": {},
   "outputs": [
    {
     "data": {
      "image/png": "[encoded data removed]",
      "text/plain": [
       "<Figure size 432x288 with 1 Axes>"
      ]
     },
     "metadata": {
      "needs_background": "light"
     },
     "output_type": "display_data"
    }
   ],
   "source": [
    "f = lambda x: 4 - 0.5 * x\n",
    "x_1 = np.arange(0, 10, 0.1)\n",
    "x_2 = [f(x) for x in x_1]\n",
    "plt.plot(x_1, x_2)\n",
    "plt.scatter(1, 2, marker=\"D\", s=15, color='blue')\n",
    "plt.scatter(2, 3, marker=\"D\", s=15, color='red')\n",
    "plt.scatter(2, 0, marker=\"D\", s=15, color='blue')\n",
    "plt.plot(x_1, [0 for x in x_1], color='black')\n",
    "plt.show()"
   ]
  },
  {
   "cell_type": "markdown",
   "metadata": {},
   "source": [
    "## Aufgabe 3 - `ex04_03.ipynb`"
   ]
  },
  {
   "cell_type": "code",
   "execution_count": null,
   "metadata": {},
   "outputs": [],
   "source": []
  },
  {
   "cell_type": "code",
   "execution_count": null,
   "metadata": {},
   "outputs": [],
   "source": []
  }
 ],
 "metadata": {
  "kernelspec": {
   "display_name": "Python 3",
   "language": "python",
   "name": "python3"
  },
  "language_info": {
   "codemirror_mode": {
    "name": "ipython",
    "version": 3
   },
   "file_extension": ".py",
   "mimetype": "text/x-python",
   "name": "python",
   "nbconvert_exporter": "python",
   "pygments_lexer": "ipython3",
   "version": "3.7.4"
  }
 },
 "nbformat": 4,
 "nbformat_minor": 2
}
