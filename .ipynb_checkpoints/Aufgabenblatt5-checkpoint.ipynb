{
 "cells": [
  {
   "cell_type": "code",
   "execution_count": 2,
   "metadata": {},
   "outputs": [
    {
     "ename": "ModuleNotFoundError",
     "evalue": "No module named 'sklearn'",
     "output_type": "error",
     "traceback": [
      "\u001b[0;31m---------------------------------------------------------------------------\u001b[0m",
      "\u001b[0;31mModuleNotFoundError\u001b[0m                       Traceback (most recent call last)",
      "\u001b[0;32m<ipython-input-2-0251dcddf572>\u001b[0m in \u001b[0;36m<module>\u001b[0;34m\u001b[0m\n\u001b[1;32m      1\u001b[0m \u001b[0;32mimport\u001b[0m \u001b[0mnumpy\u001b[0m \u001b[0;32mas\u001b[0m \u001b[0mnp\u001b[0m\u001b[0;34m\u001b[0m\u001b[0;34m\u001b[0m\u001b[0m\n\u001b[1;32m      2\u001b[0m \u001b[0;32mimport\u001b[0m \u001b[0mmatplotlib\u001b[0m\u001b[0;34m.\u001b[0m\u001b[0mpyplot\u001b[0m \u001b[0;32mas\u001b[0m \u001b[0mplt\u001b[0m\u001b[0;34m\u001b[0m\u001b[0;34m\u001b[0m\u001b[0m\n\u001b[0;32m----> 3\u001b[0;31m \u001b[0;32mimport\u001b[0m \u001b[0msklearn\u001b[0m\u001b[0;34m\u001b[0m\u001b[0;34m\u001b[0m\u001b[0m\n\u001b[0m\u001b[1;32m      4\u001b[0m \u001b[0mget_ipython\u001b[0m\u001b[0;34m(\u001b[0m\u001b[0;34m)\u001b[0m\u001b[0;34m.\u001b[0m\u001b[0mrun_line_magic\u001b[0m\u001b[0;34m(\u001b[0m\u001b[0;34m'matplotlib'\u001b[0m\u001b[0;34m,\u001b[0m \u001b[0;34m'inline'\u001b[0m\u001b[0;34m)\u001b[0m\u001b[0;34m\u001b[0m\u001b[0;34m\u001b[0m\u001b[0m\n",
      "\u001b[0;31mModuleNotFoundError\u001b[0m: No module named 'sklearn'"
     ]
    }
   ],
   "source": [
    "import numpy as np\n",
    "import matplotlib.pyplot as plt\n",
    "import sklearn\n",
    "%matplotlib inline"
   ]
  },
  {
   "cell_type": "markdown",
   "metadata": {},
   "source": [
    "## Aufgabe 1"
   ]
  },
  {
   "cell_type": "markdown",
   "metadata": {},
   "source": [
    "#### Gegeben seien die Trainingsdaten aus Tabelle `1` und der zu klassifizierende Punkt $x = (0,0,0)^T$"
   ]
  },
  {
   "cell_type": "markdown",
   "metadata": {},
   "source": [
    "### 1) Berechnen Sie die euklidische Distanz zwischen `x` und jedem der 6 Trainingsdatenpunkten"
   ]
  },
  {
   "cell_type": "code",
   "execution_count": 8,
   "metadata": {},
   "outputs": [
    {
     "name": "stdout",
     "output_type": "stream",
     "text": [
      "Distance from x 1 (class: 0 ): 3.0\n",
      "Distance from x 2 (class: 0 ): 2.0\n",
      "Distance from x 3 (class: 0 ): 3.1622776601683795\n",
      "Distance from x 4 (class: 1 ): 2.23606797749979\n",
      "Distance from x 5 (class: 1 ): 1.4142135623730951\n",
      "Distance from x 6 (class: 0 ): 1.7320508075688772\n"
     ]
    }
   ],
   "source": [
    "x = np.array([0, 0, 0])\n",
    "xs = np.array([\n",
    "    [0, 3, 0, 0],\n",
    "    [2, 0, 0, 0],\n",
    "    [0, 1, 3, 0],\n",
    "    [0, 1, 2, 1],\n",
    "    [-1, 0, 1, 1],\n",
    "    [1, 1, 1, 0]\n",
    "])\n",
    "\n",
    "for i in range(len(xs)):\n",
    "    dist = np.linalg.norm(xs[i][:-1] - x)\n",
    "    print(\"Distance from x\", i+1, \"(class:\", xs[i][-1], \"):\", dist)"
   ]
  },
  {
   "cell_type": "markdown",
   "metadata": {},
   "source": [
    "### 2) Was ist die Vorhersage `y` für `x` wenn `K = 1`?"
   ]
  },
  {
   "cell_type": "markdown",
   "metadata": {},
   "source": [
    "Die Nachbarschaft für `K=1` besteht aus dem Punkt $x_5$ mit Klasse $1$.\n",
    "\n",
    "Daher ist $y = 1$."
   ]
  },
  {
   "cell_type": "markdown",
   "metadata": {},
   "source": [
    "### 3) Was ist die Vorhersage `y` für `x` wenn `K = 3`?"
   ]
  },
  {
   "cell_type": "markdown",
   "metadata": {},
   "source": [
    "Die Nachbarschaft für `K=3` besteht aus den Punkten $x_5, x_6, x_2$ mit Klassen $(1, 0, 0)$.\n",
    "\n",
    "Die Wahrscheinlichkeit für Klasse $0$ ist demnach $\\frac{2}{3}$, für Klasse $1$ ist sie $\\frac{1}{3}$.\n",
    "\n",
    "Daher ist $y = 0$."
   ]
  },
  {
   "cell_type": "markdown",
   "metadata": {},
   "source": [
    "### 4) Wenn die Entscheidungsgrenze des optimalen Bayes Klassifikators sehr stark nichtlinear wäre, wäre ein hoher oder niedriger Wert für `K` angebracht?"
   ]
  },
  {
   "cell_type": "markdown",
   "metadata": {},
   "source": [
    "Ein niedriger Wert ist besser geeignet da sich für großes `K` die Entscheidungsgrenze einer Geraden annähert."
   ]
  },
  {
   "cell_type": "markdown",
   "metadata": {},
   "source": [
    "## Aufgabe 2"
   ]
  },
  {
   "cell_type": "markdown",
   "metadata": {},
   "source": [
    "### 1) Laden Sie den Iris-Datensatz mit Hilfe von `sklearn.datasets.load_iris` in die Variablen `X` (Features) und `y` (Target)"
   ]
  },
  {
   "cell_type": "code",
   "execution_count": null,
   "metadata": {},
   "outputs": [],
   "source": [
    "X, y = sklearn.datasets.load_iris(return_X_y=True)"
   ]
  },
  {
   "cell_type": "markdown",
   "metadata": {},
   "source": [
    "### 2) Was sind die einzelnen Features und was sind die Targetklassen?"
   ]
  },
  {
   "cell_type": "code",
   "execution_count": null,
   "metadata": {},
   "outputs": [],
   "source": [
    "X"
   ]
  },
  {
   "cell_type": "code",
   "execution_count": null,
   "metadata": {},
   "outputs": [],
   "source": [
    "y"
   ]
  },
  {
   "cell_type": "markdown",
   "metadata": {},
   "source": [
    "### 3) Berechnen Sie für $K=\\{1, 2, .., 100\\}$ mit einem `sklearn.neighbors.KNeighborsClassifier` die Genauigkeit mit 5-facher Kreuzvalidierung durch `sklearn.model_selection.cross_val_score`. Speichern Sie diese Werte für jede Belegung von K in einer Liste"
   ]
  },
  {
   "cell_type": "code",
   "execution_count": null,
   "metadata": {},
   "outputs": [],
   "source": [
    "vals = [0.0] * 100\n",
    "Ks = np.arange(1, 100, 1)\n",
    "for k in Ks:\n",
    "    model = sklearn.neighbors.KNeighborsClassifier(n_neighbors=k, weights='uniform', algorithm='auto')\n",
    "    model.fit(X, y)\n",
    "    vals[k - 1] = sklearn.model_selection.cross_val_score(model, X, y, cv=5)"
   ]
  },
  {
   "cell_type": "markdown",
   "metadata": {},
   "source": [
    "### 4) Plotten Sie mit Hilfe von `matplotlib` die scores auf die K-Werte"
   ]
  },
  {
   "cell_type": "code",
   "execution_count": null,
   "metadata": {},
   "outputs": [],
   "source": [
    "plt.plot(Ks, vals)\n",
    "plt.xlabel(\"K\")\n",
    "plt.ylabel(\"Cross_Val_Score\")\n",
    "plt.show()"
   ]
  },
  {
   "cell_type": "markdown",
   "metadata": {},
   "source": [
    "### 5) Für welche Werte von K ist die Genauigkeit maximal?"
   ]
  },
  {
   "cell_type": "code",
   "execution_count": null,
   "metadata": {},
   "outputs": [],
   "source": []
  },
  {
   "cell_type": "markdown",
   "metadata": {},
   "source": [
    "### 6) Interpretieren Sie den Plot hinsichtlich möglicher Über- und Unteranpassung"
   ]
  },
  {
   "cell_type": "markdown",
   "metadata": {},
   "source": []
  }
 ],
 "metadata": {
  "kernelspec": {
   "display_name": "Python 3",
   "language": "python",
   "name": "python3"
  },
  "language_info": {
   "codemirror_mode": {
    "name": "ipython",
    "version": 3
   },
   "file_extension": ".py",
   "mimetype": "text/x-python",
   "name": "python",
   "nbconvert_exporter": "python",
   "pygments_lexer": "ipython3",
   "version": "3.8.0"
  }
 },
 "nbformat": 4,
 "nbformat_minor": 2
}
