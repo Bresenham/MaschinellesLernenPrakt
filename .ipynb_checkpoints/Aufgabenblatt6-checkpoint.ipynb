{
 "cells": [
  {
   "cell_type": "code",
   "execution_count": 11,
   "metadata": {},
   "outputs": [
    {
     "ename": "ModuleNotFoundError",
     "evalue": "No module named 'pandas'",
     "output_type": "error",
     "traceback": [
      "\u001b[0;31m---------------------------------------------------------------------------\u001b[0m",
      "\u001b[0;31mModuleNotFoundError\u001b[0m                       Traceback (most recent call last)",
      "\u001b[0;32m<ipython-input-11-610a47aca580>\u001b[0m in \u001b[0;36m<module>\u001b[0;34m\u001b[0m\n\u001b[1;32m      5\u001b[0m \u001b[0;32mimport\u001b[0m \u001b[0msklearn\u001b[0m\u001b[0;34m.\u001b[0m\u001b[0mneighbors\u001b[0m\u001b[0;34m\u001b[0m\u001b[0;34m\u001b[0m\u001b[0m\n\u001b[1;32m      6\u001b[0m \u001b[0;32mimport\u001b[0m \u001b[0msklearn\u001b[0m\u001b[0;34m.\u001b[0m\u001b[0mmodel_selection\u001b[0m\u001b[0;34m\u001b[0m\u001b[0;34m\u001b[0m\u001b[0m\n\u001b[0;32m----> 7\u001b[0;31m \u001b[0;32mimport\u001b[0m \u001b[0mpandas\u001b[0m \u001b[0;32mas\u001b[0m \u001b[0mpd\u001b[0m\u001b[0;34m\u001b[0m\u001b[0;34m\u001b[0m\u001b[0m\n\u001b[0m\u001b[1;32m      8\u001b[0m \u001b[0mget_ipython\u001b[0m\u001b[0;34m(\u001b[0m\u001b[0;34m)\u001b[0m\u001b[0;34m.\u001b[0m\u001b[0mrun_line_magic\u001b[0m\u001b[0;34m(\u001b[0m\u001b[0;34m'matplotlib'\u001b[0m\u001b[0;34m,\u001b[0m \u001b[0;34m'inline'\u001b[0m\u001b[0;34m)\u001b[0m\u001b[0;34m\u001b[0m\u001b[0;34m\u001b[0m\u001b[0m\n",
      "\u001b[0;31mModuleNotFoundError\u001b[0m: No module named 'pandas'"
     ]
    }
   ],
   "source": [
    "import numpy as np\n",
    "import matplotlib.pyplot as plt\n",
    "import sklearn\n",
    "import sklearn.datasets\n",
    "import sklearn.neighbors\n",
    "import sklearn.model_selection\n",
    "import pandas as pd\n",
    "%matplotlib inline"
   ]
  },
  {
   "cell_type": "markdown",
   "metadata": {},
   "source": [
    "## Aufgabe 1"
   ]
  },
  {
   "cell_type": "markdown",
   "metadata": {},
   "source": [
    "$x^1 = (3, 4)^T, y^1 = -1$\n",
    "\n",
    "$x^2 = (2, 2)^T, y^2 = -1$\n",
    "\n",
    "$x^3 = (4, 4)^T, y^3 = -1$\n",
    "\n",
    "$x^4 = (1, 4)^T, y^4 = -1$\n",
    "\n",
    "$x^5 = (2, 1)^T, y^5 = 1$\n",
    "\n",
    "$x^6 = (4, 3)^T, y^6 = 1$\n",
    "\n",
    "$x^7 = (4, 1)^T, y^7 = 1$"
   ]
  },
  {
   "cell_type": "markdown",
   "metadata": {},
   "source": [
    "### 1) Zeichnen Sie die Trainingsdatenpunkte in ein Koordinatensystem ein. Verwenden sie schwarze, gefüllte Kreise für positiv klassifizierte Punkte und weiße, ungefüllte Kreise für negativ klassifizierte Punkte. Schreiben Sie neben jeden Punkt den Index `i`"
   ]
  },
  {
   "cell_type": "code",
   "execution_count": 10,
   "metadata": {},
   "outputs": [
    {
     "data": {
      "image/png": "[encoded data removed]",
      "text/plain": [
       "<Figure size 432x288 with 1 Axes>"
      ]
     },
     "metadata": {
      "needs_background": "light"
     },
     "output_type": "display_data"
    }
   ],
   "source": [
    "x1 = [3, 2, 4, 1, 2, 4, 4]\n",
    "x2 = [4, 2, 4, 4, 1, 3, 1]\n",
    "classes = [-1, -1, -1, -1, 1, 1, 1]\n",
    "for i in range(len(x1)):\n",
    "    if classes[i] == 1:\n",
    "        plt.scatter(x1[i], x2[i], marker='o', c='black')\n",
    "    else:\n",
    "        plt.scatter(x1[i], x2[i], marker='o', facecolors='none', edgecolors='black')\n",
    "    plt.annotate(str(i + 1), (x1[i], x2[i]))\n",
    "plt.xlabel(\"x1\")\n",
    "plt.ylabel(\"x2\")\n",
    "plt.show()"
   ]
  },
  {
   "cell_type": "markdown",
   "metadata": {},
   "source": [
    "### 2) Zeichnen Sie die optimale separierende Hyperebene ein und erstellen Sie eine Gleichung, die für alle Punkte gilt, die genau auf dieser Hyperebene liegen"
   ]
  },
  {
   "cell_type": "code",
   "execution_count": null,
   "metadata": {},
   "outputs": [],
   "source": []
  },
  {
   "cell_type": "markdown",
   "metadata": {},
   "source": [
    "### 3) Geben sie eine mathematische Definition des Maximum Margin Klassifikators $f: R² \\rightarrow \\{-1, 1\\}$ an, welcher die Trainingsdatenpunkte perfekt klassifiziert"
   ]
  },
  {
   "cell_type": "code",
   "execution_count": null,
   "metadata": {},
   "outputs": [],
   "source": []
  },
  {
   "cell_type": "markdown",
   "metadata": {},
   "source": [
    "### 4) Zeichnen Sie im Koordinatensystem den maximalen Abstand (Margin) ein"
   ]
  },
  {
   "cell_type": "code",
   "execution_count": null,
   "metadata": {},
   "outputs": [],
   "source": []
  },
  {
   "cell_type": "markdown",
   "metadata": {},
   "source": [
    "### 5) Geben Sie alle Indizes der Datenpunkte an, welche Supportvektoren von $f$ darstellen"
   ]
  },
  {
   "cell_type": "code",
   "execution_count": null,
   "metadata": {},
   "outputs": [],
   "source": []
  },
  {
   "cell_type": "markdown",
   "metadata": {},
   "source": [
    "### 6) Zeichnen Sie einen neuen Datenpunkt $x^8$ in einer Klasse ihrer Wahl ein, sodass die Datenpunkte nicht mehr linear trennbar sind"
   ]
  },
  {
   "cell_type": "code",
   "execution_count": null,
   "metadata": {},
   "outputs": [],
   "source": []
  },
  {
   "cell_type": "markdown",
   "metadata": {},
   "source": [
    "## Aufgabe 2"
   ]
  },
  {
   "cell_type": "markdown",
   "metadata": {},
   "source": [
    "### 1) Laden Sie den Auto-Datensatz `Auto.csv` in einen DataFrame"
   ]
  },
  {
   "cell_type": "code",
   "execution_count": null,
   "metadata": {},
   "outputs": [],
   "source": []
  },
  {
   "cell_type": "markdown",
   "metadata": {},
   "source": [
    "### 2) Schauen Sie sich den kompletten Datensatz mit Hilfe von `print(df.to_string())` an. Was fällt Ihnen auf, wenn Sie sich das Feature `horsepower` genauer anschauen? Korrigieren Sie das Problem"
   ]
  },
  {
   "cell_type": "code",
   "execution_count": null,
   "metadata": {},
   "outputs": [],
   "source": []
  },
  {
   "cell_type": "markdown",
   "metadata": {},
   "source": [
    "### 3) Erstellen sie den Zielvektor `y` welcher den Werte 1 annehmen soll für alle Autos, deren Verbrauch über dem Median liegt und 0 falls nicht"
   ]
  },
  {
   "cell_type": "code",
   "execution_count": null,
   "metadata": {},
   "outputs": [],
   "source": []
  },
  {
   "cell_type": "markdown",
   "metadata": {},
   "source": [
    "### 4) Erstellen Sie die Feature-Matrix `X` indem Sie aus dem DataFrame die Spalten `mpg` und `name` tilgen"
   ]
  },
  {
   "cell_type": "code",
   "execution_count": null,
   "metadata": {},
   "outputs": [],
   "source": []
  },
  {
   "cell_type": "markdown",
   "metadata": {},
   "source": [
    "### 5) Bei SVM müssen Sie für das Fitten den Hyperparameter `C` festlegen, welcher ebenso optimiert werden sollte. Wir machen das wie im letzten Übungsblatt mit einer Rastersuche auf dem Gitter $[0.01, 0.02, 0.05, 0.1, 0.2, 0.5, 1.0, 2.0, 5.0, 10.0]$.  Verwenden Sie einen linearen Kernel für die SVM und fitten Sie mit Hilfe 5-facher Kreuzvalidierung. Berechnen Sie dabei für jeden Wert von `C` den Mittelwert der Genauigkeit und plotten Sie am Ende die Genauigkeit über `C`. Verwenden Sie mit Hilfe von `matplotlib.pyplot.semilogx` eine logarithmische Skala für die X-Achse"
   ]
  },
  {
   "cell_type": "code",
   "execution_count": null,
   "metadata": {},
   "outputs": [],
   "source": []
  },
  {
   "cell_type": "markdown",
   "metadata": {},
   "source": [
    "### 6) Für welches Modell entscheiden Sie sich und warum?"
   ]
  },
  {
   "cell_type": "code",
   "execution_count": null,
   "metadata": {},
   "outputs": [],
   "source": []
  },
  {
   "cell_type": "markdown",
   "metadata": {},
   "source": [
    "### 7) Wiederholen Sie das Training mit polynomialen Kernel zweiten Grades auf dem Raster $[0.01, 0.05, 0.1, 0.2, 0.5, 1.0]$. Was fällt Ihnen auf?"
   ]
  },
  {
   "cell_type": "code",
   "execution_count": null,
   "metadata": {},
   "outputs": [],
   "source": []
  },
  {
   "cell_type": "markdown",
   "metadata": {},
   "source": [
    "### 8) Wiederholen Sie das Training mit radialem Basis-Kernel auf dem Raster $[0.001, 0.01, 0.05, 0.1, 0.2, 0.5, 1.0, 2.0, 5.0]$ und spielen Sie mit dem Hyperparameter $\\gamma$. Können Sie ein besseres Modell als vorher finden?"
   ]
  },
  {
   "cell_type": "code",
   "execution_count": null,
   "metadata": {},
   "outputs": [],
   "source": []
  }
 ],
 "metadata": {
  "kernelspec": {
   "display_name": "Python 3",
   "language": "python",
   "name": "python3"
  },
  "language_info": {
   "codemirror_mode": {
    "name": "ipython",
    "version": 3
   },
   "file_extension": ".py",
   "mimetype": "text/x-python",
   "name": "python",
   "nbconvert_exporter": "python",
   "pygments_lexer": "ipython3",
   "version": "3.8.0"
  }
 },
 "nbformat": 4,
 "nbformat_minor": 2
}
