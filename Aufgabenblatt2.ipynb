{
 "cells": [
  {
   "cell_type": "code",
   "execution_count": 1,
   "metadata": {},
   "outputs": [],
   "source": [
    "import sklearn\n",
    "import sklearn.datasets\n",
    "from sklearn.linear_model import LinearRegression\n",
    "import pandas as pd\n",
    "import matplotlib.pyplot as plt\n",
    "import pandas.plotting\n",
    "import numpy as np\n",
    "%matplotlib inline"
   ]
  },
  {
   "cell_type": "markdown",
   "metadata": {},
   "source": [
    "## Aufgabe 1"
   ]
  },
  {
   "cell_type": "markdown",
   "metadata": {},
   "source": [
    "### 1) Laden Sie die CSV `IceCream.csv` in einen Pandas DataFrame"
   ]
  },
  {
   "cell_type": "code",
   "execution_count": null,
   "metadata": {},
   "outputs": [],
   "source": [
    "df = pandas.read_csv(\"IceCream.csv\")"
   ]
  },
  {
   "cell_type": "code",
   "execution_count": null,
   "metadata": {},
   "outputs": [],
   "source": [
    "df"
   ]
  },
  {
   "cell_type": "markdown",
   "metadata": {},
   "source": [
    "### 2) Erstellen Sie mit `matplotlib.pyplot.scatter` einen Scatterplot der `SoldIceCream` über die `Temperature` aufträgt. Beschriften Sie die Achsen passend."
   ]
  },
  {
   "cell_type": "code",
   "execution_count": null,
   "metadata": {},
   "outputs": [],
   "source": [
    "plt.scatter(x=df[\"Temperature\"], y=df[\"SoldIceCream\"], s=5, marker='D')\n",
    "plt.xlabel(\"°C\")\n",
    "plt.ylabel(\"Amount\")\n",
    "plt.show()"
   ]
  },
  {
   "cell_type": "markdown",
   "metadata": {},
   "source": [
    "### 3) Beschreiben Sie kurz den Zusammenhang der beiden Features"
   ]
  },
  {
   "cell_type": "markdown",
   "metadata": {},
   "source": [
    "Die beiden Features sind direkt proportional. D.h. bei steigenden Temperaturen werden auch mehr Eiskugeln verkauft."
   ]
  },
  {
   "cell_type": "markdown",
   "metadata": {},
   "source": [
    "### 4) Implementieren Sie eine Funktion `train(X, Y, steps, eta)` welchen den Lernalgorithmus für die eindimensionale lineare Regression mit Hilfe des Gradientenabstiegsverfahren darstellen soll. Die Parameter `X` und `Y` sind Listen der Eingabe- bzw. Ausgabewerte, `steps` ist die Anzahl der Lernschritte und `eta` ist die Lernrate. Die Funktion soll die beiden Gewicht $w_0$ und $w_1$ zurückgeben."
   ]
  },
  {
   "cell_type": "code",
   "execution_count": null,
   "metadata": {},
   "outputs": [],
   "source": [
    "def train(X, Y, steps, eta):\n",
    "    w0 = 0\n",
    "    w1 = 0\n",
    "    for i in range(steps):\n",
    "        delta_w0 = 0\n",
    "        delta_w1 = 0\n",
    "        for x, y in zip(X, Y):\n",
    "            delta_w0 += -y + w1 * x + w0\n",
    "            delta_w1 += -x * y + w1 * x * x + w0 * x\n",
    "        w0 += -eta * delta_w0\n",
    "        w1 += -eta * delta_w1\n",
    "    return w0, w1"
   ]
  },
  {
   "cell_type": "markdown",
   "metadata": {},
   "source": [
    "### 5) Trainieren Sie ein lineares Regressionsmodell mit Hilfe dieser Funktion auf dem Feature `Temperature` und der Ausgabe `SoldIceCream` mit 200.000 Schritten und Lernrate $\\eta = 0.0001$. Geben Sie $w_0$ und $w_1$ aus"
   ]
  },
  {
   "cell_type": "code",
   "execution_count": null,
   "metadata": {},
   "outputs": [],
   "source": [
    "w0, w1 = train(X=df[\"Temperature\"], Y=df[\"SoldIceCream\"], steps=200000, eta=0.0001)"
   ]
  },
  {
   "cell_type": "code",
   "execution_count": null,
   "metadata": {},
   "outputs": [],
   "source": [
    "w0, w1"
   ]
  },
  {
   "cell_type": "markdown",
   "metadata": {},
   "source": [
    "### 6) Was bedeuten die Gewichte konkret in diesem Fall?"
   ]
  },
  {
   "cell_type": "markdown",
   "metadata": {},
   "source": [
    "$f(x) = w_1 \\cdot x + w_0 \\Rightarrow f(x) = 37.85\\cdot x -296$\n",
    "\n",
    "Erst ab 8°C wird Eis verkauft und mit jedem Grad mehr Temperatur steigt die Anzahl der verkauften Eiskugeln um ~38."
   ]
  },
  {
   "cell_type": "markdown",
   "metadata": {},
   "source": [
    "### 7) Implementieren Sie eine Funktion `predict(x, w0, w1)` welche eine Vorhersage für die Eingabe `x` unter den Modellparametern `w0` und `w1` zurückgibt."
   ]
  },
  {
   "cell_type": "code",
   "execution_count": null,
   "metadata": {},
   "outputs": [],
   "source": [
    "predict = lambda x, w0, w1: w1 * x + w0"
   ]
  },
  {
   "cell_type": "markdown",
   "metadata": {},
   "source": [
    "### 8) Berechnen Sie die kleinste und größte Temperatur, die in den Daten vorkommt als Variablen `xmin` und `xmax` und die entsprechenden Vorhersagen des Modells als Variablen `ymin` und `ymax`."
   ]
  },
  {
   "cell_type": "code",
   "execution_count": null,
   "metadata": {},
   "outputs": [],
   "source": [
    "x_min = df[\"Temperature\"].min()\n",
    "x_max = df[\"Temperature\"].max()\n",
    "\n",
    "y_min = predict(x_min, w0, w1)\n",
    "y_max = predict(x_max, w0, w1)"
   ]
  },
  {
   "cell_type": "markdown",
   "metadata": {},
   "source": [
    "### 9) Wiederholen Sie den Scatterplot und zeichnen sie zusätzlich via `matplotlib.pyplot.plot` die Modellvorhersage als Linie mit Hilfe der zuvor berechneten Variablen `xmin`, `xmax`, `ymin` und `ymax` ein"
   ]
  },
  {
   "cell_type": "code",
   "execution_count": null,
   "metadata": {},
   "outputs": [],
   "source": [
    "plt.scatter(x=df[\"Temperature\"], y=df[\"SoldIceCream\"], s=5, marker='D')\n",
    "x_vals = np.arange(x_min, x_max, 0.5)\n",
    "y_vals = [predict(x, w0, w1) for x in x_vals]\n",
    "plt.plot(x_vals, y_vals, color=\"green\")\n",
    "plt.xlabel(\"°C\")\n",
    "plt.ylabel(\"Amount\")\n",
    "plt.show()"
   ]
  },
  {
   "cell_type": "markdown",
   "metadata": {},
   "source": [
    "### 10) Interpretieren Sie den Plot"
   ]
  },
  {
   "cell_type": "markdown",
   "metadata": {},
   "source": [
    "Die Gerade näher die gegebenen Datenpunkt sehr gut an."
   ]
  },
  {
   "cell_type": "markdown",
   "metadata": {},
   "source": [
    "## Aufgabe 2"
   ]
  },
  {
   "cell_type": "markdown",
   "metadata": {},
   "source": [
    "### 1) Laden Sie den BostonHousing-Datensatz in eine Variable `boston`"
   ]
  },
  {
   "cell_type": "code",
   "execution_count": null,
   "metadata": {},
   "outputs": [],
   "source": [
    "boston = sklearn.datasets.load_boston()"
   ]
  },
  {
   "cell_type": "markdown",
   "metadata": {},
   "source": [
    "### 2) Was ist `boston`?"
   ]
  },
  {
   "cell_type": "markdown",
   "metadata": {},
   "source": [
    "`boston` is eine Map mit Feature- und Target-Daten, Namen der Features und einer Datensatzbeschreibung."
   ]
  },
  {
   "cell_type": "code",
   "execution_count": null,
   "metadata": {},
   "outputs": [],
   "source": [
    "boston.keys()"
   ]
  },
  {
   "cell_type": "markdown",
   "metadata": {},
   "source": [
    "### 3) Laden Sie die Boston Feature-Daten in einen DataFrame `X`"
   ]
  },
  {
   "cell_type": "code",
   "execution_count": null,
   "metadata": {},
   "outputs": [],
   "source": [
    "X = pd.DataFrame(data=boston[\"data\"])"
   ]
  },
  {
   "cell_type": "markdown",
   "metadata": {},
   "source": [
    "### 4) Zeigen Sie die ersten Zeilen von `X` an"
   ]
  },
  {
   "cell_type": "code",
   "execution_count": null,
   "metadata": {},
   "outputs": [],
   "source": [
    "X.head()"
   ]
  },
  {
   "cell_type": "markdown",
   "metadata": {},
   "source": [
    "### 5) Was stellen Sie fest?"
   ]
  },
  {
   "cell_type": "markdown",
   "metadata": {},
   "source": [
    "Spaltenbeschriftung fehlt"
   ]
  },
  {
   "cell_type": "markdown",
   "metadata": {},
   "source": [
    "### 6) Laden Sie die Beschriftung aus dem `boston`-Objekt nach und verifizieren Sie das Ergebnis"
   ]
  },
  {
   "cell_type": "code",
   "execution_count": null,
   "metadata": {},
   "outputs": [],
   "source": [
    "X = pd.DataFrame(data=boston[\"data\"], columns=boston[\"feature_names\"])"
   ]
  },
  {
   "cell_type": "code",
   "execution_count": null,
   "metadata": {},
   "outputs": [],
   "source": [
    "X.head()"
   ]
  },
  {
   "cell_type": "markdown",
   "metadata": {},
   "source": [
    "### 7) Laden Sie die Ausgabewerte des `boston`-Objekts in einen neuen DataFrame `y` und nennen Sie die Spalte `MEDV`"
   ]
  },
  {
   "cell_type": "code",
   "execution_count": null,
   "metadata": {},
   "outputs": [],
   "source": [
    "y = pd.DataFrame(data=boston[\"target\"], columns=[\"MEDV\"])"
   ]
  },
  {
   "cell_type": "code",
   "execution_count": null,
   "metadata": {},
   "outputs": [],
   "source": [
    "y.head()"
   ]
  },
  {
   "cell_type": "markdown",
   "metadata": {},
   "source": [
    "### 8) Fügen Sie die beiden DataFrames zu einem neuen DataFrame `full` zusammen und erstellen Sie eine scatter-Matrix"
   ]
  },
  {
   "cell_type": "code",
   "execution_count": null,
   "metadata": {},
   "outputs": [],
   "source": [
    "full = pd.concat([X, y], axis=1, sort=False)"
   ]
  },
  {
   "cell_type": "code",
   "execution_count": null,
   "metadata": {},
   "outputs": [],
   "source": [
    "pandas.plotting.scatter_matrix(full, figsize=(20,20), s=5, marker='D')\n",
    "plt.show()"
   ]
  },
  {
   "cell_type": "markdown",
   "metadata": {},
   "source": [
    "### 9) Bei welchen Features vermuten Sie direkten Zusammenhang mit den Hauspreisen?"
   ]
  },
  {
   "cell_type": "markdown",
   "metadata": {},
   "source": [
    "Bei den Features `LSTAT` und `RM`."
   ]
  },
  {
   "cell_type": "markdown",
   "metadata": {},
   "source": [
    "### 10) Erstellen Sie einen Scatterplot der Hauspreise über das Feature `LSTAT`"
   ]
  },
  {
   "cell_type": "code",
   "execution_count": null,
   "metadata": {},
   "outputs": [],
   "source": [
    "plt.scatter(x=full[\"MEDV\"], y=full[\"LSTAT\"], marker='D', s=5)\n",
    "plt.show()"
   ]
  },
  {
   "cell_type": "markdown",
   "metadata": {},
   "source": [
    "### 11) Erstellen Sie die Variable `simple_model` als neues `sklearn.linear_model.LinearRegression` -Objekt und trainieren Sie das lineare Regressionsmodell via `simple_model.fit` nur mit dem Feature `LSTAT` auf die Ausgabewerte `y`"
   ]
  },
  {
   "cell_type": "code",
   "execution_count": null,
   "metadata": {},
   "outputs": [],
   "source": [
    "simple_model = LinearRegression(n_jobs=4)\n",
    "simple_model.fit(X=X[[\"LSTAT\"]], y=y)"
   ]
  },
  {
   "cell_type": "markdown",
   "metadata": {},
   "source": [
    "### 12) Lesen Sie aus dem Modell die beiden Parameter aus"
   ]
  },
  {
   "cell_type": "code",
   "execution_count": null,
   "metadata": {},
   "outputs": [],
   "source": [
    "print(simple_model.coef_[0][0], simple_model.intercept_[0])"
   ]
  },
  {
   "cell_type": "markdown",
   "metadata": {},
   "source": [
    "### 13) Erstellen Sie einen neuen Scatterplot der Hauspreise über das Feature `LSTAT` und zeichen Sie eine Gerade ein mit Hilfe der zuvor berechneten Modellparametern"
   ]
  },
  {
   "cell_type": "code",
   "execution_count": null,
   "metadata": {},
   "outputs": [],
   "source": [
    "f = lambda x : simple_model.coef_[0][0] * x + simple_model.intercept_[0]\n",
    "x_vals = np.arange(0, 50, 1)\n",
    "y_vals = [f(x) for x in x_vals]\n",
    "plt.scatter(x=full[\"MEDV\"], y=full[\"LSTAT\"], marker='D', s=5)\n",
    "plt.plot(x_vals, y_vals, color=\"red\")\n",
    "plt.show()"
   ]
  },
  {
   "cell_type": "code",
   "execution_count": null,
   "metadata": {},
   "outputs": [],
   "source": []
  }
 ],
 "metadata": {
  "kernelspec": {
   "display_name": "Python 3",
   "language": "python",
   "name": "python3"
  },
  "language_info": {
   "codemirror_mode": {
    "name": "ipython",
    "version": 3
   },
   "file_extension": ".py",
   "mimetype": "text/x-python",
   "name": "python",
   "nbconvert_exporter": "python",
   "pygments_lexer": "ipython3",
   "version": "3.7.4"
  }
 },
 "nbformat": 4,
 "nbformat_minor": 2
}
