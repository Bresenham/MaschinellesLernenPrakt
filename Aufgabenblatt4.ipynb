{
 "cells": [
  {
   "cell_type": "code",
   "execution_count": 7,
   "metadata": {},
   "outputs": [],
   "source": [
    "import csv\n",
    "import numpy as np\n",
    "import matplotlib.pyplot as plt\n",
    "%matplotlib inline"
   ]
  },
  {
   "cell_type": "markdown",
   "metadata": {},
   "source": [
    "## Aufgabe 1"
   ]
  },
  {
   "cell_type": "markdown",
   "metadata": {},
   "source": [
    "Perzeptronklassifikator $f(x): R² \\rightarrow \\{0,1\\}$ mit Parametern $w_0 = 2, w_1 = -0.4$ und $w_2 = 0.5$"
   ]
  },
  {
   "cell_type": "markdown",
   "metadata": {},
   "source": [
    "### 1) Welches geometrische Objekt ist die Entscheidungsoberfläche (bzw. Entscheidungsgrenze)?"
   ]
  },
  {
   "cell_type": "markdown",
   "metadata": {},
   "source": [
    "Eine Gerade"
   ]
  },
  {
   "cell_type": "markdown",
   "metadata": {},
   "source": [
    "### 2) Zeichnen Sie die Entscheidungsoberfläche und markieren Sie den Halbraum welcher positiv klassifiziert und welcher Halbraum negativ ist"
   ]
  },
  {
   "cell_type": "markdown",
   "metadata": {},
   "source": [
    "$f(x) = -0.4x_1 + 0.5x_2 + 2$\n",
    "\n",
    "$f(0,0) = 2 \\Rightarrow$ Positiv"
   ]
  },
  {
   "cell_type": "code",
   "execution_count": 8,
   "metadata": {},
   "outputs": [
    {
     "data": {
      "image/png": "[encoded data removed]",
      "text/plain": [
       "<Figure size 432x288 with 1 Axes>"
      ]
     },
     "metadata": {
      "needs_background": "light"
     },
     "output_type": "display_data"
    }
   ],
   "source": [
    "f = lambda x: -4 + 0.8 * x \n",
    "x_1 = np.arange(0.0, 10.0, 0.1)\n",
    "x_2 = [f(x_i) for x_i in x_1]\n",
    "ply = plt.Polygon([[0.0, -4.0], [10.0, 4.0], [0.0, 4.0]], fill=False, closed=True, color='b')\n",
    "plt.gca().add_line(ply)\n",
    "ply = plt.Polygon([[0.0, -4.0], [10.0, -4.0], [10.0, 4.0]], fill=False, closed=True, color='r')\n",
    "plt.gca().add_line(ply)\n",
    "plt.plot(x_1, x_2, c=\"orange\")\n",
    "plt.plot(x_1, [0 for x_i in x_1], c=\"black\")\n",
    "plt.xlabel(\"x1\")\n",
    "plt.ylabel(\"x2\")\n",
    "plt.show()"
   ]
  },
  {
   "cell_type": "markdown",
   "metadata": {},
   "source": [
    "### 3) Was müssten Sie an $f(x)$ ändern um eine entgegengesetzte Klassifikation zu erhalten?"
   ]
  },
  {
   "cell_type": "markdown",
   "metadata": {},
   "source": [
    "Vorzeichen der Gewichte $w_i$ umdrehen zu:\n",
    "\n",
    "$g(x) = -f(x) = -2 + 0.4x_1 - 0.5x_2$"
   ]
  },
  {
   "cell_type": "markdown",
   "metadata": {},
   "source": [
    "### 4) Berechnen Sie die Gewichte eines Perzeptronklassifikators, wenn Sie wissen, dass\n",
    "- die Punkte (3,0) und (0,3) auf der Entscheidungsoberfläche liegen und dass\n",
    "- der Ursprung (0,0) negativ klassifiziert wird"
   ]
  },
  {
   "cell_type": "markdown",
   "metadata": {},
   "source": [
    "$f(x_1,x_2) = w_0 + w_1\\cdot x_1 + w_2\\cdot x_2$\n",
    "\n",
    "$f(3, 0) = w_0 + 3x_1 = 0 \\Rightarrow w_0 = -3x_1$\n",
    "\n",
    "$f(0, 3) = w_0 + 3x_2 = 0 \\Rightarrow w_0 = -3x_2$\n",
    "\n",
    "$f(0,0) < 0 \\Rightarrow w_0 < 0 \\Rightarrow x_1 = x_2 = 1 \\Rightarrow w_0 = -3$\n",
    "\n",
    "$f(x_1, x_2) = -3 + x_1 + x_2$"
   ]
  },
  {
   "cell_type": "markdown",
   "metadata": {},
   "source": [
    "## Aufgabe 2"
   ]
  },
  {
   "cell_type": "markdown",
   "metadata": {},
   "source": [
    "$f(x): R² \\rightarrow \\{0, 1\\} = \\alpha(w_1x_1 + w_2x_2 + w_0)$\n",
    "\n",
    "- $d¹ = [1,2]$ (Klasse 1)\n",
    "- $d² = [2,3]$ (Klasse 0)\n",
    "- $d³ = [2,0]$ (Klasse 1)"
   ]
  },
  {
   "cell_type": "markdown",
   "metadata": {},
   "source": [
    "### 1) Zeichnen Sie die drei Datenpunkte in ein Koordinatensystem"
   ]
  },
  {
   "cell_type": "code",
   "execution_count": 9,
   "metadata": {},
   "outputs": [
    {
     "data": {
      "image/png": "[encoded data removed]",
      "text/plain": [
       "<Figure size 432x288 with 1 Axes>"
      ]
     },
     "metadata": {
      "needs_background": "light"
     },
     "output_type": "display_data"
    }
   ],
   "source": [
    "plt.scatter(1, 2, marker=\"D\", s=15, color='blue')\n",
    "plt.scatter(2, 3, marker=\"D\", s=15, color='red')\n",
    "plt.scatter(2, 0, marker=\"D\", s=15, color='blue')\n",
    "plt.xlabel(\"x1\")\n",
    "plt.ylabel(\"x2\")\n",
    "plt.show()"
   ]
  },
  {
   "cell_type": "markdown",
   "metadata": {},
   "source": [
    "### 2) Angenommen die Gewichte sind anfangs $w = 0$, zeichnen Sie in das Koordinatensystem die Entscheidungsoberfläche ein"
   ]
  },
  {
   "cell_type": "code",
   "execution_count": 10,
   "metadata": {},
   "outputs": [
    {
     "data": {
      "image/png": "[encoded data removed]",
      "text/plain": [
       "<Figure size 432x288 with 1 Axes>"
      ]
     },
     "metadata": {
      "needs_background": "light"
     },
     "output_type": "display_data"
    }
   ],
   "source": [
    "ply = plt.Polygon([[0.0, 0.0], [4.0, 0.0], [4.0, 5.0], [0.0, 5.0]], fill=False, closed=True, color='r')\n",
    "plt.gca().add_line(ply)\n",
    "plt.scatter(1, 2, marker=\"D\", s=15, color='blue')\n",
    "plt.scatter(2, 3, marker=\"D\", s=15, color='red')\n",
    "plt.scatter(2, 0, marker=\"D\", s=15, color='blue')\n",
    "plt.xlabel(\"x1\")\n",
    "plt.ylabel(\"x2\")\n",
    "plt.show()"
   ]
  },
  {
   "cell_type": "markdown",
   "metadata": {},
   "source": [
    "### 3) Führen Sie das Training schrittweise durch bis alle Datenpunkte korrekt klassifiziert werden. Was ist der endgültige Wert von `w`? Wieviele Iterationen wurden benötigt?"
   ]
  },
  {
   "cell_type": "code",
   "execution_count": 11,
   "metadata": {},
   "outputs": [],
   "source": [
    "alpha = lambda x: 1 if x > 0 else 0\n",
    "\n",
    "def sum(x, y, w):\n",
    "    s = 0.0\n",
    "    for i in range(len(y)):\n",
    "        nv = np.abs(y[i] - alpha(np.dot(w, x[i])))\n",
    "        s += nv\n",
    "    return s\n",
    "\n",
    "def perceptron_learn(x, y):\n",
    "    w = np.array([0] * len(y))\n",
    "    err = lambda: (1.0 / len(y)) * sum(x, y, w)\n",
    "    iters = 0\n",
    "    while err() != 0.0:\n",
    "        _w = w.copy()\n",
    "        o = np.array([0] * len(y))\n",
    "        for i in range(len(y)):\n",
    "            o[i] = alpha(np.dot(w, x[i]))\n",
    "            _w = _w + (y[i] - o[i]) * x[i]\n",
    "        iters += 1\n",
    "\n",
    "        w = _w\n",
    "    return w, iters\n"
   ]
  },
  {
   "cell_type": "code",
   "execution_count": 12,
   "metadata": {},
   "outputs": [
    {
     "name": "stdout",
     "output_type": "stream",
     "text": [
      "W: [ 8. -1. -2.] \n",
      "Iterations: 29\n"
     ]
    }
   ],
   "source": [
    "x = np.array([\n",
    "    [1.0, 1.0, 2.0],\n",
    "    [1.0, 2.0, 3.0],\n",
    "    [1.0, 2.0, 0.0]\n",
    "])\n",
    "y = np.array([\n",
    "    1, 0, 1\n",
    "])\n",
    "\n",
    "w, iters = perceptron_learn(x, y)\n",
    "print(\"W:\", w, \"\\nIterations:\", iters)"
   ]
  },
  {
   "cell_type": "markdown",
   "metadata": {},
   "source": [
    "$f(x_1,x_2) = -x_1 -2x_2 + 8$"
   ]
  },
  {
   "cell_type": "markdown",
   "metadata": {},
   "source": [
    "### 4) Zeichnen Sie nochmals die drei Datenpunkte in ein Koordinatensystem, zeichnen Sie die Entscheidungsoberfläche ebenfalls"
   ]
  },
  {
   "cell_type": "markdown",
   "metadata": {},
   "source": [
    "$f(x_1,x_2) = -x_1 -2x_2 + 8$\n",
    "\n",
    "$8 - x_1 - 2x_2 = 0$\n",
    "\n",
    "$\\Leftrightarrow x_2 = 4 - 0.5x_1$"
   ]
  },
  {
   "cell_type": "code",
   "execution_count": 13,
   "metadata": {},
   "outputs": [
    {
     "data": {
      "image/png": "[encoded data removed]",
      "text/plain": [
       "<Figure size 432x288 with 1 Axes>"
      ]
     },
     "metadata": {
      "needs_background": "light"
     },
     "output_type": "display_data"
    }
   ],
   "source": [
    "f = lambda x: 4 - 0.5 * x\n",
    "x_1 = np.arange(0, 10, 0.1)\n",
    "x_2 = [f(x) for x in x_1]\n",
    "ply = plt.Polygon([[0.0, 4.0], [10.0, -1.0], [10.0, 4.0]], color='red', closed=True, fill=False)\n",
    "plt.gca().add_line(ply)\n",
    "ply = plt.Polygon([[0.0, 4.0], [10.0, -1.0], [0.0, -1.0]], color='blue', closed=True, fill=False)\n",
    "plt.gca().add_line(ply)\n",
    "plt.plot(x_1, x_2, color=\"orange\")\n",
    "plt.scatter(1, 2, marker=\"D\", s=15, color='blue')\n",
    "plt.scatter(2, 3, marker=\"D\", s=15, color='red')\n",
    "plt.scatter(2, 0, marker=\"D\", s=15, color='blue')\n",
    "plt.plot(x_1, [0 for x in x_1], color='black')\n",
    "plt.show()"
   ]
  },
  {
   "cell_type": "markdown",
   "metadata": {},
   "source": [
    "## Aufgabe 3 - `ex04_03.ipynb`"
   ]
  },
  {
   "cell_type": "markdown",
   "metadata": {},
   "source": [
    "### 1) Führen Sie die Zellen bis Implementierung aus"
   ]
  },
  {
   "cell_type": "code",
   "execution_count": null,
   "metadata": {},
   "outputs": [],
   "source": [
    "def load_data(filename):\n",
    "    \"\"\"\n",
    "    load a 2-d dataset with labels from a csv file in the format y,x1,x2\n",
    "    and outputs three numpy arrays for the x1, x2, and y values where the labels\n",
    "    have been converted to {0.0, 1.0}\n",
    "    \"\"\"\n",
    "    with open(filename, 'r') as csvfile:\n",
    "        pointreader = csv.reader(csvfile, delimiter=',')\n",
    "        x1 = []\n",
    "        x2 = []\n",
    "        y = []\n",
    "        for row in pointreader:\n",
    "            x1.append(float(row[1]))\n",
    "            x2.append(float(row[2]))\n",
    "            y.append(0.0 if float(row[0]) == -1.0 else 1.0)\n",
    "    return np.array(x1), np.array(x2), np.array(y)\n",
    "\n",
    "# load linearly seperable dataset https://github.com/cuekoo/Binary-classification-dataset\n",
    "x1, x2, y = load_data('linsep.csv')\n",
    "\n",
    "# shuffle data to prevent unwanted effects during learning\n",
    "s = np.arange(x1.shape[0])\n",
    "np.random.shuffle(s)\n",
    "x1 = x1[s]\n",
    "x2 = x2[s]\n",
    "y = y[s]"
   ]
  },
  {
   "cell_type": "code",
   "execution_count": null,
   "metadata": {},
   "outputs": [],
   "source": [
    "plt.scatter(x1, x2, c=y, cmap=matplotlib.colors.ListedColormap(['red', 'blue']))"
   ]
  },
  {
   "cell_type": "markdown",
   "metadata": {},
   "source": [
    "### 2) Welche besondere Eigenschaft besitzt der Datensatz wenn Sie sich den Scatterplot ansehen?"
   ]
  },
  {
   "cell_type": "markdown",
   "metadata": {},
   "source": [
    "Der Datensatz ist linear separierbar"
   ]
  },
  {
   "cell_type": "markdown",
   "metadata": {},
   "source": [
    "### 3) Implementieren Sie die Funktionen `perceptron_classify`, `perceptron_learn_step`, `perceptron_accuracy` und `perceptron_learn`"
   ]
  },
  {
   "cell_type": "code",
   "execution_count": null,
   "metadata": {},
   "outputs": [],
   "source": [
    "alpha = lambda x: 1 if x > 0 else 0"
   ]
  },
  {
   "cell_type": "code",
   "execution_count": null,
   "metadata": {},
   "outputs": [],
   "source": [
    "def perceptron_visualize(x1, x2, y, w):\n",
    "    \"\"\"\n",
    "    scatter plot the data points and add a plot of the decision surface\n",
    "    \"\"\"\n",
    "    plt.figure()\n",
    "    plt.scatter(x1, x2, c=y, cmap=matplotlib.colors.ListedColormap(['red', 'blue']))\n",
    "    plt.plot([x1.min(), x1.max()], [-(w[0] + w[1] * x1.min()) / w[2] , -(w[0] + w[1] * x1.max()) / w[2]])"
   ]
  },
  {
   "cell_type": "code",
   "execution_count": null,
   "metadata": {},
   "outputs": [],
   "source": [
    "def perceptron_classify(x1, x2, w):\n",
    "    \"\"\"\n",
    "    classify a 2-d data point [x1,x2]^T via the weights w=[w0,w1,w2]^T\n",
    "    \"\"\"\n",
    "    return alpha(np.dot([1, x1, x2], w))\n",
    "    pass"
   ]
  },
  {
   "cell_type": "code",
   "execution_count": null,
   "metadata": {},
   "outputs": [],
   "source": [
    "def perceptron_learn_step(x1, x2, y, w):\n",
    "    \"\"\"\n",
    "    perform a full perceptron learning step over all data points [x1_i,x2_i]^T \n",
    "    with labels y_i, update the weights w accordingly and return the new weights\n",
    "    \"\"\"\n",
    "    _w = w.copy()\n",
    "    for i in range(len(y)):\n",
    "        x_i = np.array([1, x1[i], x2[i]])\n",
    "        o = alpha(np.dot(x_i, w))\n",
    "        _w = _w + (y[i] - o) * x_i\n",
    "    return _w\n"
   ]
  },
  {
   "cell_type": "code",
   "execution_count": null,
   "metadata": {},
   "outputs": [],
   "source": [
    "def perceptron_accuracy(x1, x2, y, w):\n",
    "    \"\"\"\n",
    "    compute the accuracy when applying the perceptron with weights w to all \n",
    "    data points [x1_i,x2_i]^T with labels y_i\n",
    "    \"\"\" \n",
    "    tp = 0\n",
    "    tn = 0\n",
    "    fp = 0\n",
    "    fn = 0\n",
    "    for i in range(len(y)):\n",
    "        pred = perceptron_classify(x1[i], x2[i], w)\n",
    "        if pred == 1 and y[i] == 1:\n",
    "            tp += 1\n",
    "        elif pred == 1 and y[i] == 0:\n",
    "            fp += 1\n",
    "        elif pred == 0 and y[i] == 1:\n",
    "            fn += 1\n",
    "        else:\n",
    "            tn += 1\n",
    "    return (tp + tn) / (tp + tn + fp + fn)"
   ]
  },
  {
   "cell_type": "code",
   "execution_count": null,
   "metadata": {},
   "outputs": [],
   "source": [
    "def perceptron_learn(x1, x2, y, gamma):\n",
    "    \"\"\"\n",
    "    implementation of the perceptron learning algorithm on data points \n",
    "    [x1_i,x2_i]^T with labels y_i with accuracy threshold gamma and visualization\n",
    "    every 10 iterations\n",
    "    \"\"\"\n",
    "    w = np.array([0] * 3)\n",
    "    iters = 0\n",
    "    while perceptron_accuracy(x1, x2, y, w) < gamma:\n",
    "        w = perceptron_learn_step(x1, x2, y, w)\n",
    "        if iters % 25 == 0:\n",
    "            perceptron_visualize(x1, x2, y, w)\n",
    "        iters += 1\n",
    "    return w, iters\n",
    "        "
   ]
  },
  {
   "cell_type": "markdown",
   "metadata": {},
   "source": [
    "### 4) Trainieren Sie das Perzeptron anhand des geladenen Datensatzes. Wie viele Iterationen wurden benötigt um eine 100%-ige Genauigkeit zu erreichen? Was sind die finalen Gewichte?"
   ]
  },
  {
   "cell_type": "code",
   "execution_count": null,
   "metadata": {},
   "outputs": [],
   "source": [
    "w, iters = perceptron_learn(x1, x2, y, 1.0)\n",
    "plt.show()\n",
    "print(\"W:\", w, \"\\nIterations:\", iters)"
   ]
  },
  {
   "cell_type": "markdown",
   "metadata": {},
   "source": [
    "## Aufgabe 4"
   ]
  },
  {
   "cell_type": "markdown",
   "metadata": {},
   "source": [
    "### 1) Implementieren Sie den Adaline Klassifikations- und Lernalgorithmus"
   ]
  },
  {
   "cell_type": "code",
   "execution_count": null,
   "metadata": {},
   "outputs": [],
   "source": [
    "def sigma(x):\n",
    "    if x > 0:\n",
    "        return 1\n",
    "    elif x == 0:\n",
    "        return 0\n",
    "    else:\n",
    "        return -1"
   ]
  },
  {
   "cell_type": "code",
   "execution_count": null,
   "metadata": {},
   "outputs": [],
   "source": [
    "def adaline_classify(x1, x2, w):\n",
    "    return sigma(np.dot([1, x1, x2], w))"
   ]
  },
  {
   "cell_type": "code",
   "execution_count": null,
   "metadata": {},
   "outputs": [],
   "source": [
    "def adaline_accuracy(x1, x2, y, w):\n",
    "    tp = 0\n",
    "    tn = 0\n",
    "    fp = 0\n",
    "    fn = 0\n",
    "    for i in range(len(y)):\n",
    "        pred = adaline_classify(x1[i], x2[i], w)\n",
    "        if (pred == 1 or pred == 0) and y[i] == 1:\n",
    "            tp += 1\n",
    "        elif (pred == 1 or pred == 0) and y[i] == 0:\n",
    "            fp += 1\n",
    "        elif pred == -1 and y[i] == 1:\n",
    "            fn += 1\n",
    "        elif pred == -1 and y[i] == 0:\n",
    "            tn += 1\n",
    "    return (tp + tn) / (tp + tn + fp + fn)"
   ]
  },
  {
   "cell_type": "code",
   "execution_count": null,
   "metadata": {},
   "outputs": [],
   "source": [
    "def adaline_learn_one_step(x1, x2, y, w, eta):\n",
    "    _w = w.copy()\n",
    "    for i in range(len(y)):\n",
    "        x_i = np.array([1, x1[i], x2[i]])\n",
    "        b = y[i] - np.dot(w, x_i)\n",
    "        _w = _w + eta * b * x_i\n",
    "    return _w"
   ]
  },
  {
   "cell_type": "code",
   "execution_count": null,
   "metadata": {},
   "outputs": [],
   "source": [
    "def adaline_learn(x1, x2, y, eta, gamma):\n",
    "    w = np.array([0] * 3)\n",
    "    iters = 0\n",
    "    while iters < 100:\n",
    "        w = adaline_learn_one_step(x1, x2, y, w, eta)\n",
    "        print(\"W:\", w)\n",
    "        print(\"ACC:\", adaline_accuracy(x1, x2, y, w))\n",
    "        iters += 1\n",
    "    return w, iters"
   ]
  },
  {
   "cell_type": "markdown",
   "metadata": {},
   "source": [
    "### 2) Wenden Sie den Adaline Lernalgorithmus auf den Datensatz `linsep.csv` an. Wie viele Iterationen werden benötigt, um eine 100%-ige Genauigkeit zu erreichen? Was sind die finalen Gewichte?"
   ]
  },
  {
   "cell_type": "code",
   "execution_count": null,
   "metadata": {},
   "outputs": [],
   "source": [
    "w, iters = adaline_learn(x1, x2, y, 0.1, 1.0)\n",
    "print(\"W:\", w, \"\\nIterations:\", iters)\n",
    "plt.show()"
   ]
  },
  {
   "cell_type": "code",
   "execution_count": null,
   "metadata": {},
   "outputs": [],
   "source": [
    "perceptron_visualize(x1, x2, y, [1358517.18772195, 7214870.68098788, 7704738.55916819])"
   ]
  },
  {
   "cell_type": "markdown",
   "metadata": {},
   "source": [
    "### 3) Experimentieren Sie mit verschiedenen Werten für $\\eta$. Was passiert und warum?"
   ]
  },
  {
   "cell_type": "code",
   "execution_count": null,
   "metadata": {},
   "outputs": [],
   "source": [
    "etas = np.arange(0.001, 0.01, 0.001)\n",
    "for eta in etas:\n",
    "    w, iters = adaline_learn(x1, x2, y, eta, 1.0)\n",
    "    print(\"W:\", w, \"\\nIterations:\", iters)"
   ]
  },
  {
   "cell_type": "code",
   "execution_count": null,
   "metadata": {},
   "outputs": [],
   "source": []
  }
 ],
 "metadata": {
  "kernelspec": {
   "display_name": "Python 3",
   "language": "python",
   "name": "python3"
  },
  "language_info": {
   "codemirror_mode": {
    "name": "ipython",
    "version": 3
   },
   "file_extension": ".py",
   "mimetype": "text/x-python",
   "name": "python",
   "nbconvert_exporter": "python",
   "pygments_lexer": "ipython3",
   "version": "3.8.0"
  }
 },
 "nbformat": 4,
 "nbformat_minor": 2
}
