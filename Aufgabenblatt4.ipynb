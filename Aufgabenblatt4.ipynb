{
 "cells": [
  {
   "cell_type": "code",
   "execution_count": null,
   "metadata": {},
   "outputs": [],
   "source": [
    "import matplotlib.pyplot as plt\n",
    "import numpy as np\n",
    "import matplotlib\n",
    "import csv\n",
    "%matplotlib inline"
   ]
  },
  {
   "cell_type": "markdown",
   "metadata": {},
   "source": [
    "## Aufgabe 1"
   ]
  },
  {
   "cell_type": "markdown",
   "metadata": {},
   "source": [
    "Perzeptronklassifikator $f(x): R² \\rightarrow \\{0,1\\}$ mit Parametern $w_0 = 2, w_1 = -0.4$ und $w_2 = 0.5$"
   ]
  },
  {
   "cell_type": "markdown",
   "metadata": {},
   "source": [
    "### 1) Welches geometrische Objekt ist die Entscheidungsoberfläche?"
   ]
  },
  {
   "cell_type": "markdown",
   "metadata": {},
   "source": [
    "Eine Gerade"
   ]
  },
  {
   "cell_type": "markdown",
   "metadata": {},
   "source": [
    "### 2) Zeichnen Sie die Entscheidungsoberfläche und markieren Sie den Halbraum welcher positiv klassifiziert und welcher Halbraum negativ ist"
   ]
  },
  {
   "cell_type": "code",
   "execution_count": null,
   "metadata": {},
   "outputs": [],
   "source": [
    "f = lambda x: -4 + 0.8 * x \n",
    "x_1 = np.arange(0.0, 10.0, 0.1)\n",
    "x_2 = [f(x_i) for x_i in x_1]\n",
    "ply = plt.Polygon([[0.0, -4.0], [10.0, 4.0], [0.0, 4.0]], fill=False, closed=True, color='b')\n",
    "plt.gca().add_line(ply)\n",
    "ply = plt.Polygon([[0.0, -4.0], [10.0, -4.0], [10.0, 4.0]], fill=False, closed=True, color='r')\n",
    "plt.gca().add_line(ply)\n",
    "plt.plot(x_1, x_2, c=\"orange\")\n",
    "plt.plot(x_1, [0 for x_i in x_1], c=\"black\")\n",
    "plt.xlabel(\"x1\")\n",
    "plt.ylabel(\"x2\")\n",
    "plt.show()"
   ]
  },
  {
   "cell_type": "markdown",
   "metadata": {},
   "source": [
    "### 3) Was müssten Sie an $f(x)$ ändern um eine entgegengesetzte Klassifikation zu erhalten?"
   ]
  },
  {
   "cell_type": "markdown",
   "metadata": {},
   "source": [
    "Vorzeichen der Gewichte $w_i$ umdrehen zu:\n",
    "\n",
    "$f(x) = -2 + 0.4x_1 - 0.5x_2$"
   ]
  },
  {
   "cell_type": "markdown",
   "metadata": {},
   "source": [
    "### 4) Berechnen Sie die Gewichte eines Perzeptronklassifikators, wenn Sie wissen, dass\n",
    "- die Punkte (3,0) und (0,3) auf der Entscheidungsoberfläche liegen und dass\n",
    "- der Ursprung (0,0) negativ klassifiziert wird"
   ]
  },
  {
   "cell_type": "markdown",
   "metadata": {},
   "source": [
    "$w_0 + 3x_1 = 0 \\Rightarrow w_0 = -3x_1$\n",
    "\n",
    "$w_0 + 3x_2 = 0 \\Rightarrow w_0 = -3x_2$\n",
    "\n",
    "$w_0 < 0 \\Rightarrow x_1 = x_2 = 1 \\Rightarrow w_0 = -3$\n",
    "\n",
    "$f(x_1, x_2) = -3 + x_1 + x_2$"
   ]
  },
  {
   "cell_type": "markdown",
   "metadata": {},
   "source": [
    "## Aufgabe 2"
   ]
  },
  {
   "cell_type": "markdown",
   "metadata": {},
   "source": [
    "$f(x): R² \\rightarrow \\{0, 1\\} = \\alpha(w_1x_1 + w_2x_2 + w_0)$\n",
    "\n",
    "- $d¹ = [1,2]$ (Klasse 1)\n",
    "- $d² = [2,3]$ (Klasse 0)\n",
    "- $d³ = [2,0]$ (Klasse 1)"
   ]
  },
  {
   "cell_type": "markdown",
   "metadata": {},
   "source": [
    "### 1) Zeichnen Sie die drei Datenpunkte in ein Koordinatensystem"
   ]
  },
  {
   "cell_type": "code",
   "execution_count": null,
   "metadata": {},
   "outputs": [],
   "source": [
    "plt.scatter(1, 2, marker=\"D\", s=15, color='blue')\n",
    "plt.scatter(2, 3, marker=\"D\", s=15, color='red')\n",
    "plt.scatter(2, 0, marker=\"D\", s=15, color='blue')\n",
    "plt.xlabel(\"x1\")\n",
    "plt.ylabel(\"x2\")\n",
    "plt.show()"
   ]
  },
  {
   "cell_type": "markdown",
   "metadata": {},
   "source": [
    "### 2) Angenommen die Gewichte sind anfangs $w = 0$, zeichnen Sie in das Koordinatensystem die Entscheidungsoberfläche ein"
   ]
  },
  {
   "cell_type": "code",
   "execution_count": null,
   "metadata": {},
   "outputs": [],
   "source": [
    "ply = plt.Polygon([[0.0, 0.0], [4.0, 0.0], [4.0, 5.0], [0.0, 5.0]], fill=False, closed=True, color='r')\n",
    "plt.gca().add_line(ply)\n",
    "plt.scatter(1, 2, marker=\"D\", s=15, color='blue')\n",
    "plt.scatter(2, 3, marker=\"D\", s=15, color='red')\n",
    "plt.scatter(2, 0, marker=\"D\", s=15, color='blue')\n",
    "plt.xlabel(\"x1\")\n",
    "plt.ylabel(\"x2\")\n",
    "plt.show()"
   ]
  },
  {
   "cell_type": "markdown",
   "metadata": {},
   "source": [
    "### 3) Führen Sie das Training schrittweise durch bis alle Datenpunkte korrekt klassifiziert werden. Was ist der endgültige Wert von `w`? Wieviele Iterationen wurden benötigt?"
   ]
  },
  {
   "cell_type": "code",
   "execution_count": null,
   "metadata": {},
   "outputs": [],
   "source": [
    "alpha = lambda x: 1 if x > 0 else 0\n",
    "\n",
    "def sum(x, y, w):\n",
    "    s = 0.0\n",
    "    for i in range(len(y)):\n",
    "        nv = np.abs(y[i] - alpha(np.dot(w, x[i])))\n",
    "        s += nv\n",
    "    return s\n",
    "\n",
    "def perceptron_learn(x, y):\n",
    "    w = np.array([0] * len(y))\n",
    "    err = lambda: (1.0 / len(y)) * sum(x, y, w)\n",
    "    iters = 0\n",
    "    while err() != 0.0:\n",
    "        _w = w.copy()\n",
    "        o = np.array([0] * len(y))\n",
    "        for i in range(len(y)):\n",
    "            o[i] = alpha(np.dot(w, x[i]))\n",
    "            _w = _w + (y[i] - o[i]) * x[i]\n",
    "        iters += 1\n",
    "\n",
    "        w = _w\n",
    "    return w, iters\n"
   ]
  },
  {
   "cell_type": "code",
   "execution_count": null,
   "metadata": {},
   "outputs": [],
   "source": [
    "x = np.array([\n",
    "    [1.0, 1.0, 2.0],\n",
    "    [1.0, 2.0, 3.0],\n",
    "    [1.0, 2.0, 0.0]\n",
    "])\n",
    "y = np.array([\n",
    "    1, 0, 1\n",
    "])\n",
    "\n",
    "w, iters = perceptron_learn(x, y)\n",
    "print(\"W:\", w, \"\\nIterations:\", iters)"
   ]
  },
  {
   "cell_type": "markdown",
   "metadata": {},
   "source": [
    "### 4) Zeichnen Sie nochmals die drei Datenpunkte in ein Koordinatensystem, zeichnen Sie die Entscheidungsoberfläche ebenfalls"
   ]
  },
  {
   "cell_type": "markdown",
   "metadata": {},
   "source": [
    "$f(x_1, x_2) = 8 -x_1 -2x_2$\n",
    "\n",
    "$8 - x_1 - 2x_2 = 0$\n",
    "\n",
    "$\\Leftrightarrow x_2 = 4 - 0.5x_1$"
   ]
  },
  {
   "cell_type": "code",
   "execution_count": null,
   "metadata": {},
   "outputs": [],
   "source": [
    "f = lambda x: 4 - 0.5 * x\n",
    "x_1 = np.arange(0, 10, 0.1)\n",
    "x_2 = [f(x) for x in x_1]\n",
    "ply = plt.Polygon([[0.0, 4.0], [10.0, -1.0], [10.0, 4.0]], color='red', closed=True, fill=False)\n",
    "plt.gca().add_line(ply)\n",
    "ply = plt.Polygon([[0.0, 4.0], [10.0, -1.0], [0.0, -1.0]], color='blue', closed=True, fill=False)\n",
    "plt.gca().add_line(ply)\n",
    "plt.plot(x_1, x_2, color=\"orange\")\n",
    "plt.scatter(1, 2, marker=\"D\", s=15, color='blue')\n",
    "plt.scatter(2, 3, marker=\"D\", s=15, color='red')\n",
    "plt.scatter(2, 0, marker=\"D\", s=15, color='blue')\n",
    "plt.plot(x_1, [0 for x in x_1], color='black')\n",
    "plt.show()"
   ]
  },
  {
   "cell_type": "markdown",
   "metadata": {},
   "source": [
    "## Aufgabe 3 - `ex04_03.ipynb`"
   ]
  },
  {
   "cell_type": "markdown",
   "metadata": {},
   "source": [
    "### 1) Führen Sie die Zellen bis Implementierung aus"
   ]
  },
  {
   "cell_type": "code",
   "execution_count": null,
   "metadata": {},
   "outputs": [],
   "source": [
    "def load_data(filename):\n",
    "    \"\"\"\n",
    "    load a 2-d dataset with labels from a csv file in the format y,x1,x2\n",
    "    and outputs three numpy arrays for the x1, x2, and y values where the labels\n",
    "    have been converted to {0.0, 1.0}\n",
    "    \"\"\"\n",
    "    with open(filename, 'r') as csvfile:\n",
    "        pointreader = csv.reader(csvfile, delimiter=',')\n",
    "        x1 = []\n",
    "        x2 = []\n",
    "        y = []\n",
    "        for row in pointreader:\n",
    "            x1.append(float(row[1]))\n",
    "            x2.append(float(row[2]))\n",
    "            y.append(0.0 if float(row[0]) == -1.0 else 1.0)\n",
    "    return np.array(x1), np.array(x2), np.array(y)\n",
    "\n",
    "# load linearly seperable dataset https://github.com/cuekoo/Binary-classification-dataset\n",
    "x1, x2, y = load_data('linsep.csv')\n",
    "\n",
    "# shuffle data to prevent unwanted effects during learning\n",
    "s = np.arange(x1.shape[0])\n",
    "np.random.shuffle(s)\n",
    "x1 = x1[s]\n",
    "x2 = x2[s]\n",
    "y = y[s]"
   ]
  },
  {
   "cell_type": "code",
   "execution_count": null,
   "metadata": {},
   "outputs": [],
   "source": [
    "plt.scatter(x1, x2, c=y, cmap=matplotlib.colors.ListedColormap(['red', 'blue']))"
   ]
  },
  {
   "cell_type": "markdown",
   "metadata": {},
   "source": [
    "### 2) Welche besondere Eigenschaft besitzt der Datensatz wenn Sie sich den Scatterplot ansehen?"
   ]
  },
  {
   "cell_type": "markdown",
   "metadata": {},
   "source": [
    "Der Datensatz ist linear separierbar"
   ]
  },
  {
   "cell_type": "markdown",
   "metadata": {},
   "source": [
    "### 3) Implementieren Sie die Funktionen `perceptron_classify`, `perceptron_learn_step`, `perceptron_accuracy` und `perceptron_learn`"
   ]
  },
  {
   "cell_type": "code",
   "execution_count": null,
   "metadata": {},
   "outputs": [],
   "source": [
    "alpha = lambda x: 1 if x > 0 else 0"
   ]
  },
  {
   "cell_type": "code",
   "execution_count": null,
   "metadata": {},
   "outputs": [],
   "source": [
    "def perceptron_visualize(x1, x2, y, w):\n",
    "    \"\"\"\n",
    "    scatter plot the data points and add a plot of the decision surface\n",
    "    \"\"\"\n",
    "    plt.figure()\n",
    "    plt.scatter(x1, x2, c=y, cmap=matplotlib.colors.ListedColormap(['red', 'blue']))\n",
    "    plt.plot([x1.min(), x1.max()], [-(w[0] + w[1] * x1.min()) / w[2] , -(w[0] + w[1] * x1.max()) / w[2]])"
   ]
  },
  {
   "cell_type": "code",
   "execution_count": null,
   "metadata": {},
   "outputs": [],
   "source": [
    "def perceptron_classify(x1, x2, w):\n",
    "    \"\"\"\n",
    "    classify a 2-d data point [x1,x2]^T via the weights w=[w0,w1,w2]^T\n",
    "    \"\"\"\n",
    "    return alpha(np.dot([1, x1, x2], w))\n",
    "    pass"
   ]
  },
  {
   "cell_type": "code",
   "execution_count": null,
   "metadata": {},
   "outputs": [],
   "source": [
    "def perceptron_learn_step(x1, x2, y, w):\n",
    "    \"\"\"\n",
    "    perform a full perceptron learning step over all data points [x1_i,x2_i]^T \n",
    "    with labels y_i, update the weights w accordingly and return the new weights\n",
    "    \"\"\"\n",
    "    _w = w.copy()\n",
    "    for i in range(len(y)):\n",
    "        x_i = np.array([1, x1[i], x2[i]])\n",
    "        o = alpha(np.dot(x_i, w))\n",
    "        _w = _w + (y[i] - o) * x_i\n",
    "    return _w\n"
   ]
  },
  {
   "cell_type": "code",
   "execution_count": null,
   "metadata": {},
   "outputs": [],
   "source": [
    "def perceptron_accuracy(x1, x2, y, w):\n",
    "    \"\"\"\n",
    "    compute the accuracy when applying the perceptron with weights w to all \n",
    "    data points [x1_i,x2_i]^T with labels y_i\n",
    "    \"\"\" \n",
    "    tp = 0\n",
    "    tn = 0\n",
    "    fp = 0\n",
    "    fn = 0\n",
    "    for i in range(len(y)):\n",
    "        pred = perceptron_classify(x1[i], x2[i], w)\n",
    "        if pred == 1 and y[i] == 1:\n",
    "            tp += 1\n",
    "        elif pred == 1 and y[i] == 0:\n",
    "            fp += 1\n",
    "        elif pred == 0 and y[i] == 1:\n",
    "            fn += 1\n",
    "        else:\n",
    "            tn += 1\n",
    "    return (tp + tn) / (tp + tn + fp + fn)"
   ]
  },
  {
   "cell_type": "code",
   "execution_count": null,
   "metadata": {},
   "outputs": [],
   "source": [
    "def perceptron_learn(x1, x2, y, gamma):\n",
    "    \"\"\"\n",
    "    implementation of the perceptron learning algorithm on data points \n",
    "    [x1_i,x2_i]^T with labels y_i with accuracy threshold gamma and visualization\n",
    "    every 10 iterations\n",
    "    \"\"\"\n",
    "    w = np.array([0] * 3)\n",
    "    iters = 0\n",
    "    while perceptron_accuracy(x1, x2, y, w) < gamma:\n",
    "        w = perceptron_learn_step(x1, x2, y, w)\n",
    "        if iters % 25 == 0:\n",
    "            perceptron_visualize(x1, x2, y, w)\n",
    "        iters += 1\n",
    "    return w, iters\n",
    "        "
   ]
  },
  {
   "cell_type": "markdown",
   "metadata": {},
   "source": [
    "### 4) Trainieren Sie das Perzeptron anhand des geladenen Datensatzes. Wie viele Iterationen wurden benötigt um eine 100%-ige Genauigkeit zu erreichen? Was sind die finalen Gewichte?"
   ]
  },
  {
   "cell_type": "code",
   "execution_count": null,
   "metadata": {},
   "outputs": [],
   "source": [
    "w, iters = perceptron_learn(x1, x2, y, 1.0)\n",
    "plt.show()\n",
    "print(\"W:\", w, \"\\nIterations:\", iters)"
   ]
  },
  {
   "cell_type": "markdown",
   "metadata": {},
   "source": [
    "## Aufgabe 4"
   ]
  },
  {
   "cell_type": "markdown",
   "metadata": {},
   "source": [
    "### 1) Implementieren Sie den Adaline Klassifikations- und Lernalgorithmus"
   ]
  },
  {
   "cell_type": "code",
   "execution_count": 72,
   "metadata": {},
   "outputs": [],
   "source": [
    "def sigma(x):\n",
    "    if x > 0:\n",
    "        return 1\n",
    "    elif x == 0:\n",
    "        return 0\n",
    "    else:\n",
    "        return -1"
   ]
  },
  {
   "cell_type": "code",
   "execution_count": 83,
   "metadata": {},
   "outputs": [],
   "source": [
    "def adaline_classify(x1, x2, w):\n",
    "    return sigma(np.dot([1, x1, x2], w))"
   ]
  },
  {
   "cell_type": "code",
   "execution_count": 79,
   "metadata": {},
   "outputs": [],
   "source": [
    "def adaline_accuracy(x1, x2, y, w):\n",
    "    tp = 0\n",
    "    tn = 0\n",
    "    fp = 0\n",
    "    fn = 0\n",
    "    for i in range(len(y)):\n",
    "        pred = adaline_classify(x1[i], x2[i], w)\n",
    "        if (pred == 1 or pred == 0) and y[i] == 1:\n",
    "            tp += 1\n",
    "        elif (pred == 1 or pred == 0) and y[i] == 0:\n",
    "            fp += 1\n",
    "        elif pred == -1 and y[i] == 1:\n",
    "            fn += 1\n",
    "        elif pred == -1 and y[i] == 0:\n",
    "            tn += 1\n",
    "    return (tp + tn) / (tp + tn + fp + fn)"
   ]
  },
  {
   "cell_type": "code",
   "execution_count": 80,
   "metadata": {},
   "outputs": [],
   "source": [
    "def adaline_learn_one_step(x1, x2, y, w, eta):\n",
    "    _w = w.copy()\n",
    "    for i in range(len(y)):\n",
    "        x_i = np.array([1, x1[i], x2[i]])\n",
    "        b = y[i] - np.dot(w, x_i)\n",
    "        _w = _w + eta * b * x_i\n",
    "    return _w"
   ]
  },
  {
   "cell_type": "code",
   "execution_count": 81,
   "metadata": {},
   "outputs": [],
   "source": [
    "def adaline_learn(x1, x2, y, eta, gamma):\n",
    "    w = np.array([0] * 3)\n",
    "    iters = 0\n",
    "    while iters < 100:\n",
    "        w = adaline_learn_one_step(x1, x2, y, w, eta)\n",
    "        print(\"W:\", w)\n",
    "        print(\"ACC:\", adaline_accuracy(x1, x2, y, w))\n",
    "        iters += 1\n",
    "    return w, iters"
   ]
  },
  {
   "cell_type": "markdown",
   "metadata": {},
   "source": [
    "### 2) Wenden Sie den Adaline Lernalgorithmus auf den Datensatz `linsep.csv` an. Wie viele Iterationen werden benötigt, um eine 100%-ige Genauigkeit zu erreichen? Was sind die finalen Gewichte?"
   ]
  },
  {
   "cell_type": "code",
   "execution_count": 82,
   "metadata": {},
   "outputs": [
    {
     "name": "stdout",
     "output_type": "stream",
     "text": [
      "W: [ 5.      17.55648 29.78239]\n",
      "ACC: 0.5\n",
      "W: [ -2426.49041075 -12744.26145567 -13927.30792525]\n",
      "ACC: 0.5\n",
      "W: [1358517.18772195 7214870.68098788 7704738.55916819]\n",
      "ACC: 0.5\n",
      "W: [-7.59699997e+08 -4.03723454e+09 -4.30575555e+09]\n",
      "ACC: 0.5\n",
      "W: [4.24814110e+11 2.25764903e+12 2.40763195e+12]\n",
      "ACC: 0.5\n",
      "W: [-2.37549758e+14 -1.26244645e+15 -1.34630932e+15]\n",
      "ACC: 0.5\n",
      "W: [1.32834286e+17 7.05941331e+17 7.52836029e+17]\n",
      "ACC: 0.5\n",
      "W: [-7.42789534e+19 -3.94751876e+20 -4.20974687e+20]\n",
      "ACC: 0.5\n",
      "W: [4.15356839e+22 2.20739367e+23 2.35402772e+23]\n",
      "ACC: 0.5\n",
      "W: [-2.32261355e+25 -1.23434165e+26 -1.31633722e+26]\n",
      "ACC: 0.5\n",
      "W: [1.29877089e+28 6.90225456e+28 7.36076160e+28]\n",
      "ACC: 0.5\n",
      "W: [-7.26253327e+30 -3.85963790e+31 -4.11602820e+31]\n",
      "ACC: 0.5\n",
      "W: [4.06110039e+33 2.15825200e+34 2.30162164e+34]\n",
      "ACC: 0.5\n",
      "W: [-2.27090682e+36 -1.20686236e+37 -1.28703252e+37]\n",
      "ACC: 0.5\n",
      "W: [1.26985726e+39 6.74859447e+39 7.19689409e+39]\n",
      "ACC: 0.5\n",
      "W: [-7.10085255e+41 -3.77371347e+42 -4.02439593e+42]\n",
      "ACC: 0.5\n",
      "W: [3.97069094e+44 2.11020434e+45 2.25038224e+45]\n",
      "ACC: 0.5\n",
      "W: [-2.22035120e+47 -1.17999482e+48 -1.25838021e+48]\n",
      "ACC: 0.5\n",
      "W: [1.24158731e+50 6.59835521e+50 7.03667465e+50]\n",
      "ACC: 0.5\n",
      "W: [-6.94277121e+52 -3.68970191e+53 -3.93480361e+53]\n",
      "ACC: 0.5\n",
      "W: [3.88229421e+55 2.06322633e+56 2.20028355e+56]\n",
      "ACC: 0.5\n",
      "W: [-2.17092107e+58 -1.15372542e+59 -1.23036577e+59]\n",
      "ACC: 0.5\n",
      "W: [1.21394671e+61 6.45146062e+61 6.88002206e+61]\n",
      "ACC: 0.5\n",
      "W: [-6.78820913e+63 -3.60756064e+64 -3.84720582e+64]\n",
      "ACC: 0.5\n",
      "W: [3.79586540e+66 2.01729416e+67 2.15130016e+67]\n",
      "ACC: 0.5\n",
      "W: [-2.12259137e+69 -1.12804083e+70 -1.20297500e+70]\n",
      "ACC: 0.5\n",
      "W: [1.18692146e+72 6.30783624e+72 6.72685692e+72]\n",
      "ACC: 0.5\n",
      "W: [-6.63708796e+74 -3.52724803e+75 -3.76155815e+75]\n",
      "ACC: 0.5\n",
      "W: [3.71136069e+77 1.97238454e+78 2.10340727e+78]\n",
      "ACC: 0.5\n",
      "W: [-2.07533759e+80 -1.10292804e+81 -1.17619400e+81]\n",
      "ACC: 0.5\n",
      "W: [1.16049786e+83 6.16740928e+83 6.57710159e+83]\n",
      "ACC: 0.5\n",
      "W: [-6.48933109e+85 -3.44872337e+86 -3.67781720e+86]\n",
      "ACC: 0.5\n",
      "W: [3.62873725e+88 1.92847472e+89 2.05658058e+89]\n",
      "ACC: 0.5\n",
      "W: [-2.02913580e+91 -1.07837433e+92 -1.15000921e+92]\n",
      "ACC: 0.5\n",
      "W: [1.13466250e+94 6.03010854e+94 6.43068015e+94]\n",
      "ACC: 0.5\n",
      "W: [-6.34486363e+96 -3.37194684e+97 -3.59594052e+97]\n",
      "ACC: 0.5\n",
      "W: [3.54795320e+099 1.88554243e+100 2.01079635e+100]\n",
      "ACC: 0.5\n",
      "W: [-1.98396256e+102 -1.05436723e+103 -1.12440736e+103]\n",
      "ACC: 0.5\n",
      "W: [1.10940230e+105 5.89586443e+105 6.28751840e+105]\n",
      "ACC: 0.5\n",
      "W: [-6.20361235e+107 -3.29687953e+108 -3.51588660e+108]\n",
      "ACC: 0.5\n",
      "W: [3.46896758e+110 1.84356591e+111 1.96603139e+111]\n",
      "ACC: 0.5\n",
      "W: [-1.93979498e+113 -1.03089458e+114 -1.09937546e+114]\n",
      "ACC: 0.5\n",
      "W: [1.08470445e+116 5.76460890e+116 6.14754375e+116]\n",
      "ACC: 0.5\n",
      "W: [-6.06550565e+118 -3.22348340e+119 -3.43761486e+119]\n",
      "ACC: 0.5\n",
      "W: [3.39174037e+121 1.80252388e+122 1.92226301e+122]\n",
      "ACC: 0.5\n",
      "W: [-1.89661068e+124 -1.00794450e+125 -1.07490083e+125]\n",
      "ACC: 0.5\n",
      "W: [1.06055643e+127 5.63627543e+127 6.01068527e+127]\n",
      "ACC: 0.5\n",
      "W: [-5.93047352e+129 -3.15172123e+130 -3.36108564e+130]\n",
      "ACC: 0.5\n",
      "W: [3.31623242e+132 1.76239555e+133 1.87946900e+133]\n",
      "ACC: 0.5\n",
      "W: [-1.85438775e+135 -9.85505330e+135 -1.05097106e+136]\n",
      "ACC: 0.5\n",
      "W: [1.03694600e+138 5.51079895e+138 5.87687356e+138]\n",
      "ACC: 0.5\n",
      "W: [-5.79844751e+140 -3.08155666e+141 -3.28626013e+141]\n",
      "ACC: 0.5\n",
      "W: [3.24240545e+143 1.72316056e+144 1.83762769e+144]\n",
      "ACC: 0.5\n",
      "W: [-1.81310481e+146 -9.63565711e+146 -1.02757402e+147]\n",
      "ACC: 0.5\n",
      "W: [1.01386119e+149 5.38811587e+149 5.74604082e+149]\n",
      "ACC: 0.5\n",
      "W: [-5.66936071e+151 -3.01295411e+152 -3.21310040e+152]\n",
      "ACC: 0.5\n",
      "W: [3.17022203e+154 1.68479904e+155 1.79671787e+155]\n",
      "ACC: 0.5\n",
      "W: [-1.77274092e+157 -9.42114518e+157 -1.00469786e+158]\n",
      "ACC: 0.5\n",
      "W: [9.91290307e+159 5.26816400e+160 5.61812071e+160]\n",
      "ACC: 0.5\n",
      "W: [-5.54314768e+162 -2.94587881e+163 -3.14156939e+163]\n",
      "ACC: 0.5\n",
      "W: [3.09964559e+165 1.64729153e+166 1.75671879e+166]\n",
      "ACC: 0.5\n",
      "W: [-1.73327562e+168 -9.21140879e+168 -9.82330970e+168]\n",
      "ACC: 0.5\n",
      "W: [9.69221901e+170 5.15088253e+171 5.49304840e+171]\n",
      "ACC: 0.5\n",
      "W: [-5.41974444e+173 -2.88029676e+174 -3.07163081e+174]\n",
      "ACC: 0.5\n",
      "W: [3.03064033e+176 1.61061903e+177 1.71761018e+177]\n",
      "ACC: 0.5\n",
      "W: [-1.69468891e+179 -9.00634161e+179 -9.60462019e+179]\n",
      "ACC: 0.5\n",
      "W: [9.47644788e+181 5.03621202e+182 5.37076049e+182]\n",
      "ACC: 0.5\n",
      "W: [-5.29908845e+184 -2.81617472e+185 -3.00324924e+185]\n",
      "ACC: 0.5\n",
      "W: [2.96317130e+187 1.57476294e+188 1.67937222e+188]\n",
      "ACC: 0.5\n",
      "W: [-1.65696124e+190 -8.80583969e+190 -9.39079922e+190]\n",
      "ACC: 0.5\n",
      "W: [9.26548032e+192 4.92409434e+193 5.25119499e+193]\n",
      "ACC: 0.5\n",
      "W: [-5.18111853e+195 -2.75348018e+196 -2.93638999e+196]\n",
      "ACC: 0.5\n",
      "W: [2.89720428e+198 1.53970509e+199 1.64198553e+199]\n",
      "ACC: 0.5\n",
      "W: [-1.62007346e+201 -8.60980141e+201 -9.18173839e+201]\n",
      "ACC: 0.5\n",
      "W: [9.05920938e+203 4.81447266e+204 5.13429129e+204]\n",
      "ACC: 0.5\n",
      "W: [-5.06577490e+206 -2.69218137e+207 -2.87101918e+207]\n",
      "ACC: 0.5\n",
      "W: [2.83270584e+209 1.50542770e+210 1.60543115e+210]\n",
      "ACC: 0.5\n",
      "W: [-1.58400689e+212 -8.41812740e+212 -8.97733174e+212]\n",
      "ACC: 0.5\n",
      "W: [8.85753051e+214 4.70729140e+215 5.01999014e+215]\n",
      "ACC: 0.5\n",
      "W: [-4.95299908e+217 -2.63224721e+218 -2.80710368e+218]\n",
      "ACC: 0.5\n",
      "W: [2.76964328e+220 1.47191342e+221 1.56969055e+221]\n",
      "ACC: 0.5\n",
      "W: [-1.54874325e+223 -8.23072049e+223 -8.77747566e+223]\n",
      "ACC: 0.5\n",
      "W: [8.66034148e+225 4.60249625e+226 4.90823359e+226]\n",
      "ACC: 0.5\n",
      "W: [-4.84273391e+228 -2.57364732e+229 -2.74461109e+229]\n",
      "ACC: 0.5\n",
      "W: [2.70798464e+231 1.43914523e+232 1.53474562e+232]\n",
      "ACC: 0.5\n",
      "W: [-1.51426466e+234 -8.04748569e+234 -8.58206883e+234]\n",
      "ACC: 0.5\n",
      "W: [8.46754233e+236 4.50003408e+237 4.79896501e+237]\n",
      "ACC: 0.5\n",
      "W: [-4.73492349e+239 -2.51635200e+240 -2.68350972e+240]\n",
      "ACC: 0.5\n",
      "W: [2.64769866e+242 1.40710654e+243 1.50057865e+243]\n",
      "ACC: 0.5\n",
      "W: [-1.48055364e+245 -7.86833012e+245 -8.39101220e+245]\n",
      "ACC: 0.5\n",
      "W: [8.27903533e+247 4.39985296e+248 4.69212899e+248]\n",
      "ACC: 0.5\n",
      "W: [-4.62951319e+250 -2.46033221e+251 -2.62376861e+251]\n",
      "ACC: 0.5\n",
      "W: [2.58875479e+253 1.37578111e+254 1.46717231e+254]\n",
      "ACC: 0.5\n",
      "W: [-1.44759310e+256 -7.69316296e+256 -8.20420894e+256]\n",
      "ACC: 0.5\n",
      "W: [8.09472493e+258 4.30190209e+259 4.58767139e+259]\n",
      "ACC: 0.5\n",
      "W: [-4.52644956e+261 -2.40555955e+262 -2.56535748e+262]\n",
      "ACC: 0.5\n",
      "W: [2.53112314e+264 1.34515305e+265 1.43450968e+265]\n",
      "ACC: 0.5\n",
      "W: [-1.41536635e+267 -7.52189543e+267 -8.02156435e+267]\n",
      "ACC: 0.5\n",
      "W: [7.91451770e+269 4.20613184e+270 4.48553925e+270]\n",
      "ACC: 0.5\n",
      "W: [-4.42568036e+272 -2.35200625e+273 -2.50824671e+273]\n",
      "ACC: 0.5\n",
      "W: [-4.42568036e+272 -2.35200625e+273 -2.50824671e+273] \n",
      "Iterations: 100\n"
     ]
    }
   ],
   "source": [
    "w, iters = adaline_learn(x1, x2, y, 0.1, 1.0)\n",
    "print(\"W:\", w, \"\\nIterations:\", iters)\n",
    "plt.show()"
   ]
  },
  {
   "cell_type": "code",
   "execution_count": 85,
   "metadata": {},
   "outputs": [
    {
     "data": {
      "image/png": "[encoded data removed]",
      "text/plain": [
       "<Figure size 432x288 with 1 Axes>"
      ]
     },
     "metadata": {
      "needs_background": "light"
     },
     "output_type": "display_data"
    }
   ],
   "source": [
    "perceptron_visualize(x1, x2, y, [1358517.18772195, 7214870.68098788, 7704738.55916819])"
   ]
  },
  {
   "cell_type": "markdown",
   "metadata": {},
   "source": [
    "### 3) Experimentieren Sie mit verschiedenen Werten für $\\eta$. Was passiert und warum?"
   ]
  },
  {
   "cell_type": "code",
   "execution_count": null,
   "metadata": {},
   "outputs": [],
   "source": [
    "etas = np.arange(0.001, 0.01, 0.001)\n",
    "for eta in etas:\n",
    "    w, iters = adaline_learn(x1, x2, y, eta, 1.0)\n",
    "    print(\"W:\", w, \"\\nIterations:\", iters)"
   ]
  },
  {
   "cell_type": "code",
   "execution_count": null,
   "metadata": {},
   "outputs": [],
   "source": []
  }
 ],
 "metadata": {
  "kernelspec": {
   "display_name": "Python 3",
   "language": "python",
   "name": "python3"
  },
  "language_info": {
   "codemirror_mode": {
    "name": "ipython",
    "version": 3
   },
   "file_extension": ".py",
   "mimetype": "text/x-python",
   "name": "python",
   "nbconvert_exporter": "python",
   "pygments_lexer": "ipython3",
   "version": "3.7.4"
  }
 },
 "nbformat": 4,
 "nbformat_minor": 2
}
