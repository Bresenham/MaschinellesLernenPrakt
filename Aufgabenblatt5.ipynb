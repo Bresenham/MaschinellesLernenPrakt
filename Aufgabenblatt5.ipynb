{
 "cells": [
  {
   "cell_type": "code",
   "execution_count": 1,
   "metadata": {},
   "outputs": [],
   "source": [
    "import numpy as np\n",
    "import matplotlib.pyplot as plt\n",
    "import sklearn\n",
    "import sklearn.datasets\n",
    "import sklearn.neighbors\n",
    "import sklearn.model_selection\n",
    "%matplotlib inline"
   ]
  },
  {
   "cell_type": "markdown",
   "metadata": {},
   "source": [
    "## Aufgabe 1"
   ]
  },
  {
   "cell_type": "markdown",
   "metadata": {},
   "source": [
    "#### Gegeben seien die Trainingsdaten aus Tabelle `1` und der zu klassifizierende Punkt $x = (0,0,0)^T$"
   ]
  },
  {
   "cell_type": "markdown",
   "metadata": {},
   "source": [
    "### 1) Berechnen Sie die euklidische Distanz zwischen `x` und jedem der 6 Trainingsdatenpunkten"
   ]
  },
  {
   "cell_type": "code",
   "execution_count": 2,
   "metadata": {},
   "outputs": [
    {
     "name": "stdout",
     "output_type": "stream",
     "text": [
      "Distance from x 1 (class: 0 ): 3.0\n",
      "Distance from x 2 (class: 0 ): 2.0\n",
      "Distance from x 3 (class: 0 ): 3.1622776601683795\n",
      "Distance from x 4 (class: 1 ): 2.23606797749979\n",
      "Distance from x 5 (class: 1 ): 1.4142135623730951\n",
      "Distance from x 6 (class: 0 ): 1.7320508075688772\n"
     ]
    }
   ],
   "source": [
    "x = np.array([0, 0, 0])\n",
    "xs = np.array([\n",
    "    [0, 3, 0, 0],\n",
    "    [2, 0, 0, 0],\n",
    "    [0, 1, 3, 0],\n",
    "    [0, 1, 2, 1],\n",
    "    [-1, 0, 1, 1],\n",
    "    [1, 1, 1, 0]\n",
    "])\n",
    "\n",
    "for i in range(len(xs)):\n",
    "    dist = np.linalg.norm(xs[i][:-1] - x)\n",
    "    print(\"Distance from x\", i+1, \"(class:\", xs[i][-1], \"):\", dist)"
   ]
  },
  {
   "cell_type": "markdown",
   "metadata": {},
   "source": [
    "### 2) Was ist die Vorhersage `y` für `x` wenn `K = 1`?"
   ]
  },
  {
   "cell_type": "markdown",
   "metadata": {},
   "source": [
    "Die Nachbarschaft für `K=1` besteht aus dem Punkt $x_5$ mit Klasse $1$.\n",
    "\n",
    "Daher ist $y = 1$."
   ]
  },
  {
   "cell_type": "markdown",
   "metadata": {},
   "source": [
    "### 3) Was ist die Vorhersage `y` für `x` wenn `K = 3`?"
   ]
  },
  {
   "cell_type": "markdown",
   "metadata": {},
   "source": [
    "Die Nachbarschaft für `K=3` besteht aus den Punkten $x_5, x_6, x_2$ mit Klassen $(1, 0, 0)$.\n",
    "\n",
    "Die Wahrscheinlichkeit für Klasse $0$ ist demnach $\\frac{2}{3}$, für Klasse $1$ ist sie $\\frac{1}{3}$.\n",
    "\n",
    "Daher ist $y = 0$."
   ]
  },
  {
   "cell_type": "markdown",
   "metadata": {},
   "source": [
    "### 4) Wenn die Entscheidungsgrenze des optimalen Bayes Klassifikators sehr stark nichtlinear wäre, wäre ein hoher oder niedriger Wert für `K` angebracht?"
   ]
  },
  {
   "cell_type": "markdown",
   "metadata": {},
   "source": [
    "Ein niedriger Wert ist besser geeignet da sich für großes `K` die Entscheidungsgrenze einer Geraden annähert."
   ]
  },
  {
   "cell_type": "markdown",
   "metadata": {},
   "source": [
    "## Aufgabe 2"
   ]
  },
  {
   "cell_type": "markdown",
   "metadata": {},
   "source": [
    "### 1) Laden Sie den Iris-Datensatz mit Hilfe von `sklearn.datasets.load_iris` in die Variablen `X` (Features) und `y` (Target)"
   ]
  },
  {
   "cell_type": "code",
   "execution_count": 3,
   "metadata": {},
   "outputs": [],
   "source": [
    "X, y = sklearn.datasets.load_iris(return_X_y=True)"
   ]
  },
  {
   "cell_type": "markdown",
   "metadata": {},
   "source": [
    "### 2) Was sind die einzelnen Features und was sind die Targetklassen?"
   ]
  },
  {
   "cell_type": "markdown",
   "metadata": {},
   "source": [
    "Features:\n",
    "* Kelchblattlänge\n",
    "* Kelchblattbreite\n",
    "* Blütenblattlänge\n",
    "* Blütenblattbreite"
   ]
  },
  {
   "cell_type": "code",
   "execution_count": 4,
   "metadata": {},
   "outputs": [
    {
     "name": "stdout",
     "output_type": "stream",
     "text": [
      "Targetklassen: ['setosa' 'versicolor' 'virginica']\n"
     ]
    }
   ],
   "source": [
    "print(\"Targetklassen:\", sklearn.datasets.load_iris().target_names)"
   ]
  },
  {
   "cell_type": "markdown",
   "metadata": {},
   "source": [
    "### 3) Berechnen Sie für $K=\\{1, 2, .., 100\\}$ mit einem `sklearn.neighbors.KNeighborsClassifier` die Genauigkeit mit 5-facher Kreuzvalidierung durch `sklearn.model_selection.cross_val_score`. Speichern Sie diese Werte für jede Belegung von K in einer Liste"
   ]
  },
  {
   "cell_type": "code",
   "execution_count": 5,
   "metadata": {},
   "outputs": [],
   "source": [
    "vals = np.array([0.0] * 100)\n",
    "Ks = np.arange(1, 101, 1)\n",
    "for k in Ks:\n",
    "    model = sklearn.neighbors.KNeighborsClassifier(n_neighbors=k, weights='uniform', algorithm='auto')\n",
    "    vals[k - 1] = np.average(\n",
    "        sklearn.model_selection.cross_val_score(model, X, y, cv=5, scoring='accuracy')\n",
    "    )"
   ]
  },
  {
   "cell_type": "markdown",
   "metadata": {},
   "source": [
    "### 4) Plotten Sie mit Hilfe von `matplotlib` die scores auf die K-Werte"
   ]
  },
  {
   "cell_type": "code",
   "execution_count": 6,
   "metadata": {},
   "outputs": [
    {
     "data": {
      "image/png": "[encoded data removed]",
      "text/plain": [
       "<Figure size 432x288 with 1 Axes>"
      ]
     },
     "metadata": {
      "needs_background": "light"
     },
     "output_type": "display_data"
    }
   ],
   "source": [
    "plt.plot(Ks, vals)\n",
    "plt.xlabel(\"K\")\n",
    "plt.ylabel(\"Accuracy\")\n",
    "plt.show()"
   ]
  },
  {
   "cell_type": "markdown",
   "metadata": {},
   "source": [
    "### 5) Für welche Werte von K ist die Genauigkeit maximal?"
   ]
  },
  {
   "cell_type": "code",
   "execution_count": 7,
   "metadata": {},
   "outputs": [
    {
     "name": "stdout",
     "output_type": "stream",
     "text": [
      "Maximale Genauigkeit 0.9800000000000001 für K = 6\n"
     ]
    }
   ],
   "source": [
    "print(\"Maximale Genauigkeit\", vals.max(), \"für K =\", np.argmax(vals) + 1)"
   ]
  },
  {
   "cell_type": "markdown",
   "metadata": {},
   "source": [
    "### 6) Interpretieren Sie den Plot hinsichtlich möglicher Über- und Unteranpassung"
   ]
  },
  {
   "cell_type": "markdown",
   "metadata": {},
   "source": [
    "Ab `K = ~60` wird das Modell sehr ungenau (Unteranpassung). Die sehr hohe Genauigkeit von 98% (K=1, 2) lässt auf eine Überanpassung schließen. D.h. ein guter Wert für `K` liegt bei 10 oder 11 die auch die maximale Genauigkeit aufweisen."
   ]
  },
  {
   "cell_type": "code",
   "execution_count": null,
   "metadata": {},
   "outputs": [],
   "source": []
  }
 ],
 "metadata": {
  "kernelspec": {
   "display_name": "Python 3",
   "language": "python",
   "name": "python3"
  },
  "language_info": {
   "codemirror_mode": {
    "name": "ipython",
    "version": 3
   },
   "file_extension": ".py",
   "mimetype": "text/x-python",
   "name": "python",
   "nbconvert_exporter": "python",
   "pygments_lexer": "ipython3",
   "version": "3.8.0"
  }
 },
 "nbformat": 4,
 "nbformat_minor": 2
}
