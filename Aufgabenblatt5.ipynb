{
 "cells": [
  {
   "cell_type": "code",
   "execution_count": 7,
   "metadata": {},
   "outputs": [],
   "source": [
    "import numpy as np\n",
    "import matplotlib.pyplot as plt\n",
    "%matplotlib inline"
   ]
  },
  {
   "cell_type": "markdown",
   "metadata": {},
   "source": [
    "## Aufgabe 1"
   ]
  },
  {
   "cell_type": "markdown",
   "metadata": {},
   "source": [
    "#### Gegeben seien die Trainingsdaten aus Tabelle `1` und der zu klassifizierende Punkt $x = (0,0,0)^T$"
   ]
  },
  {
   "cell_type": "markdown",
   "metadata": {},
   "source": [
    "### 1) Berechnen Sie die euklidische Distanz zwischen `x` und jedem der 6 Trainingsdatenpunkten"
   ]
  },
  {
   "cell_type": "code",
   "execution_count": 8,
   "metadata": {},
   "outputs": [
    {
     "name": "stdout",
     "output_type": "stream",
     "text": [
      "Distance from x 1 (class: 0 ): 3.0\n",
      "Distance from x 2 (class: 0 ): 2.0\n",
      "Distance from x 3 (class: 0 ): 3.1622776601683795\n",
      "Distance from x 4 (class: 1 ): 2.23606797749979\n",
      "Distance from x 5 (class: 1 ): 1.4142135623730951\n",
      "Distance from x 6 (class: 0 ): 1.7320508075688772\n"
     ]
    }
   ],
   "source": [
    "x = np.array([0, 0, 0])\n",
    "xs = np.array([\n",
    "    [0, 3, 0, 0],\n",
    "    [2, 0, 0, 0],\n",
    "    [0, 1, 3, 0],\n",
    "    [0, 1, 2, 1],\n",
    "    [-1, 0, 1, 1],\n",
    "    [1, 1, 1, 0]\n",
    "])\n",
    "\n",
    "for i in range(len(xs)):\n",
    "    dist = np.linalg.norm(xs[i][:-1] - x)\n",
    "    print(\"Distance from x\", i+1, \"(class:\", xs[i][-1], \"):\", dist)"
   ]
  },
  {
   "cell_type": "markdown",
   "metadata": {},
   "source": [
    "### 2) Was ist die Vorhersage `y` für `x` wenn `K = 1`?"
   ]
  },
  {
   "cell_type": "markdown",
   "metadata": {},
   "source": [
    "$x_5$ ist der näheste Punkt $\\Rightarrow$ y = 1"
   ]
  },
  {
   "cell_type": "markdown",
   "metadata": {},
   "source": [
    "### 3) Was ist die Vorhersage `y` für `x` wenn `K = 3`?"
   ]
  },
  {
   "cell_type": "markdown",
   "metadata": {},
   "source": []
  },
  {
   "cell_type": "markdown",
   "metadata": {},
   "source": [
    "### 4) Wenn die Entscheidungsgrenze des optimalen Bayes Klassifikators sehr stark nichtlinear wäre, wäre ein hoher oder niedriger Wert für `K` angebracht?"
   ]
  },
  {
   "cell_type": "markdown",
   "metadata": {},
   "source": []
  }
 ],
 "metadata": {
  "kernelspec": {
   "display_name": "Python 3",
   "language": "python",
   "name": "python3"
  },
  "language_info": {
   "codemirror_mode": {
    "name": "ipython",
    "version": 3
   },
   "file_extension": ".py",
   "mimetype": "text/x-python",
   "name": "python",
   "nbconvert_exporter": "python",
   "pygments_lexer": "ipython3",
   "version": "3.8.0"
  }
 },
 "nbformat": 4,
 "nbformat_minor": 2
}
