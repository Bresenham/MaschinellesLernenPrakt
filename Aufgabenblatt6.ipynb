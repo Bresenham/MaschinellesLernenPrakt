{
 "cells": [
  {
   "cell_type": "markdown",
   "metadata": {},
   "source": [
    "## Aufgabe 1"
   ]
  },
  {
   "cell_type": "markdown",
   "metadata": {},
   "source": [
    "$\n",
    "\\begin{tabular}{ c c c }\n",
    " cell1 & cell2 & cell3 \\\\ \n",
    " cell4 & cell5 & cell6 \\\\  \n",
    " cell7 & cell8 & cell9    \n",
    "\\end{tabular}\n",
    "$"
   ]
  },
  {
   "cell_type": "markdown",
   "metadata": {},
   "source": [
    "### 1) Zeichnen Sie die Trainingsdatenpunkte in ein Koordinatensystem ein. Verwenden sie schwarze, gefüllte Kreise für positiv klassifizierte Punkte und weiße, ungefüllte Kreise für negativ klassifizierte Punkte. Schreiben Sie neben jeden Punkt den Index `i`"
   ]
  },
  {
   "cell_type": "code",
   "execution_count": null,
   "metadata": {},
   "outputs": [],
   "source": []
  },
  {
   "cell_type": "markdown",
   "metadata": {},
   "source": []
  }
 ],
 "metadata": {
  "kernelspec": {
   "display_name": "Python 3",
   "language": "python",
   "name": "python3"
  },
  "language_info": {
   "codemirror_mode": {
    "name": "ipython",
    "version": 3
   },
   "file_extension": ".py",
   "mimetype": "text/x-python",
   "name": "python",
   "nbconvert_exporter": "python",
   "pygments_lexer": "ipython3",
   "version": "3.8.0"
  }
 },
 "nbformat": 4,
 "nbformat_minor": 2
}
