{
 "cells": [
  {
   "cell_type": "markdown",
   "metadata": {},
   "source": [
    "# Maschinelles Lernen\n",
    "# Aufgabenblatt 04 - Aufgabe 02\n",
    "# Prof. Dr. David Spieler"
   ]
  },
  {
   "cell_type": "code",
   "execution_count": 2,
   "metadata": {},
   "outputs": [],
   "source": [
    "import csv\n",
    "%matplotlib inline\n",
    "import matplotlib\n",
    "import matplotlib.pyplot as plot\n",
    "import numpy as np\n",
    "\n",
    "matplotlib.rcParams['figure.figsize'] = (14, 12)"
   ]
  },
  {
   "cell_type": "markdown",
   "metadata": {},
   "source": [
    "# Implementierung"
   ]
  },
  {
   "cell_type": "code",
   "execution_count": 3,
   "metadata": {},
   "outputs": [],
   "source": [
    "def perceptron_classify(x1, x2, w):\n",
    "    \"\"\"\n",
    "    classify a 2-d data point [x1,x2]^T via the weights w=[w0,w1,w2]^T\n",
    "    \"\"\"\n",
    "    t = w[0] + x1 * w[1] + x2 * w[2]\n",
    "    return 1.0 if t > 0.0 else 0.0\n",
    "    \n",
    "def perceptron_visualize(x1, x2, y, w):\n",
    "    \"\"\"\n",
    "    scatter plot the data points and add a plot of the decision surface\n",
    "    \"\"\"\n",
    "    plot.figure()\n",
    "    plot.scatter(x1, x2, c=y, cmap=matplotlib.colors.ListedColormap(['red', 'blue']))\n",
    "    plot.plot([x1.min(), x1.max()], [-(w[0] + w[1] * x1.min()) / w[2] , -(w[0] + w[1] * x1.max()) / w[2]])\n",
    "    \n",
    "def perceptron_learn_step(x1, x2, y, w):\n",
    "    \"\"\"\n",
    "    perform a full perceptron learning step over all data points [x1_i,x2_i]^T \n",
    "    with labels y_i, update the weights w accordingly and return the new weights\n",
    "    \"\"\"\n",
    "    wp = w[:]\n",
    "    for x1_i, x2_i, y_i in zip(x1, x2, y):\n",
    "        prediction = perceptron_classify(x1_i, x2_i, w)\n",
    "        \n",
    "        correction = y_i - prediction\n",
    "        \n",
    "        wp[0] = wp[0] + correction * 1.0\n",
    "        wp[1] = wp[1] + correction * x1_i\n",
    "        wp[2] = wp[2] + correction * x2_i\n",
    "        \n",
    "    return wp\n",
    "\n",
    "def perceptron_accuracy(x1, x2, y, w):\n",
    "    \"\"\"\n",
    "    compute the accuracy when applying the perceptron with weights w to all \n",
    "    data points [x1_i,x2_i]^T with labels y_i\n",
    "    \"\"\" \n",
    "    correct = 0.0\n",
    "    for x1_i, x2_i, y in zip(x1, x2, y):\n",
    "        if perceptron_classify(x1_i, x2_i, w) == y:\n",
    "            correct = correct + 1.0\n",
    "    return correct / len(x1)\n",
    "\n",
    "def perceptron_learn(x1, x2, y, gamma):\n",
    "    \"\"\"\n",
    "    implementation of the perceptron learning algorithm on data points \n",
    "    [x1_i,x2_i]^T with labels y_i with accuracy threshold gamma and visualization\n",
    "    every 10 iterations\n",
    "    \"\"\"\n",
    "    rho = 0\n",
    "    w = [0.0, 0.0, 0.0]\n",
    "    iteration = 0\n",
    "    while (rho < gamma):\n",
    "        w = perceptron_learn_step(x1, x2, y, w)\n",
    "        rho = perceptron_accuracy(x1, x2, y, w)\n",
    "        print(\"iteration=\", iteration, \"accuracy =\", rho)\n",
    "        if iteration % 10 == 0:\n",
    "            perceptron_visualize(x1, x2, y, w)\n",
    "        iteration += 1\n",
    "    return w"
   ]
  },
  {
   "cell_type": "markdown",
   "metadata": {},
   "source": [
    "# Training"
   ]
  },
  {
   "cell_type": "code",
   "execution_count": 5,
   "metadata": {},
   "outputs": [
    {
     "name": "stdout",
     "output_type": "stream",
     "text": [
      "iteration= 0 accuracy = 0.6666666666666666\n",
      "iteration= 1 accuracy = 0.6666666666666666\n",
      "iteration= 2 accuracy = 0.6666666666666666\n",
      "iteration= 3 accuracy = 0.6666666666666666\n",
      "iteration= 4 accuracy = 0.6666666666666666\n",
      "iteration= 5 accuracy = 0.3333333333333333\n",
      "iteration= 6 accuracy = 0.6666666666666666\n",
      "iteration= 7 accuracy = 0.6666666666666666\n",
      "iteration= 8 accuracy = 0.6666666666666666\n",
      "iteration= 9 accuracy = 0.6666666666666666\n",
      "iteration= 10 accuracy = 0.6666666666666666\n",
      "iteration= 11 accuracy = 0.6666666666666666\n",
      "iteration= 12 accuracy = 0.6666666666666666\n",
      "iteration= 13 accuracy = 0.6666666666666666\n",
      "iteration= 14 accuracy = 0.6666666666666666\n",
      "iteration= 15 accuracy = 0.6666666666666666\n",
      "iteration= 16 accuracy = 0.6666666666666666\n",
      "iteration= 17 accuracy = 0.3333333333333333\n",
      "iteration= 18 accuracy = 0.6666666666666666\n",
      "iteration= 19 accuracy = 0.6666666666666666\n",
      "iteration= 20 accuracy = 0.6666666666666666\n",
      "iteration= 21 accuracy = 0.6666666666666666\n",
      "iteration= 22 accuracy = 0.6666666666666666\n",
      "iteration= 23 accuracy = 0.6666666666666666\n",
      "iteration= 24 accuracy = 0.6666666666666666\n",
      "iteration= 25 accuracy = 0.6666666666666666\n",
      "iteration= 26 accuracy = 0.6666666666666666\n",
      "iteration= 27 accuracy = 0.6666666666666666\n",
      "iteration= 28 accuracy = 1.0\n"
     ]
    },
    {
     "data": {
      "image/png": "[encoded data removed]",
      "text/plain": [
       "<Figure size 432x288 with 1 Axes>"
      ]
     },
     "metadata": {},
     "output_type": "display_data"
    },
    {
     "data": {
      "image/png": "[encoded data removed]",
      "text/plain": [
       "<Figure size 432x288 with 1 Axes>"
      ]
     },
     "metadata": {},
     "output_type": "display_data"
    },
    {
     "data": {
      "image/png": "[encoded data removed]",
      "text/plain": [
       "<Figure size 432x288 with 1 Axes>"
      ]
     },
     "metadata": {},
     "output_type": "display_data"
    }
   ],
   "source": [
    "x1 = np.array([1, 2, 2])\n",
    "x2 = np.array([2, 3, 0])\n",
    "y = np.array([1, 0, 1])\n",
    "w = perceptron_learn(x1, x2, y, 1.0)"
   ]
  },
  {
   "cell_type": "code",
   "execution_count": 7,
   "metadata": {},
   "outputs": [
    {
     "data": {
      "image/png": "[encoded data removed]",
      "text/plain": [
       "<Figure size 432x288 with 1 Axes>"
      ]
     },
     "metadata": {},
     "output_type": "display_data"
    }
   ],
   "source": [
    "perceptron_visualize(x1, x2, y, w)"
   ]
  },
  {
   "cell_type": "code",
   "execution_count": null,
   "metadata": {},
   "outputs": [],
   "source": []
  }
 ],
 "metadata": {
  "kernelspec": {
   "display_name": "Python 3",
   "language": "python",
   "name": "python3"
  },
  "language_info": {
   "codemirror_mode": {
    "name": "ipython",
    "version": 3
   },
   "file_extension": ".py",
   "mimetype": "text/x-python",
   "name": "python",
   "nbconvert_exporter": "python",
   "pygments_lexer": "ipython3",
   "version": "3.8.0"
  }
 },
 "nbformat": 4,
 "nbformat_minor": 1
}
